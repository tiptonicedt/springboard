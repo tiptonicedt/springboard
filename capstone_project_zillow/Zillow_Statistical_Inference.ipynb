{
 "cells": [
  {
   "cell_type": "markdown",
   "metadata": {},
   "source": [
    "## Statistical Inference Testing - Zillow & Predicting the Hot Housing Markets"
   ]
  },
  {
   "cell_type": "markdown",
   "metadata": {},
   "source": [
    "##### After looking at the initial descriptive statistics of the Zillow data, there are a few areas that stand out for further exploration with inferential statistics:\n",
    "1. Coastal vs Non-Coastal Regions - the states that saw the highest growth over the last 20 years are also on the coast.  Is there an overal significant difference in housing price growth rates of coastal vs non-coastal states?\n",
    "2. Household Income - I will be tying another dataset to explore how areas with the highest, lowest and medium household incomes compare in overall growth rate of housing prices.\n",
    "3. Volatility and Growth - in the descriptive statistics, some of the fastest-growing states also saw the biggest crashes in the housing crisis of the late 2000's.  I will compare the regions that had the biggest crashes with overall growth to understand the relationship."
   ]
  },
  {
   "cell_type": "code",
   "execution_count": 1,
   "metadata": {
    "collapsed": true
   },
   "outputs": [],
   "source": [
    "%matplotlib inline\n",
    "import numpy as np\n",
    "import pandas as pd\n",
    "import matplotlib as mpl\n",
    "import matplotlib.pyplot as plt"
   ]
  },
  {
   "cell_type": "code",
   "execution_count": 2,
   "metadata": {
    "collapsed": true
   },
   "outputs": [],
   "source": [
    "import seaborn as sns\n",
    "sns.set(color_codes=True)"
   ]
  },
  {
   "cell_type": "code",
   "execution_count": 3,
   "metadata": {},
   "outputs": [
    {
     "data": {
      "text/html": [
       "<style>body {\n",
       "    margin: 0;\n",
       "    font-family: Helvetica;\n",
       "}\n",
       "table.dataframe {\n",
       "    border-collapse: collapse;\n",
       "    border: none;\n",
       "}\n",
       "table.dataframe tr {\n",
       "    border: none;\n",
       "}\n",
       "table.dataframe td, table.dataframe th {\n",
       "    margin: 0;\n",
       "    border: 1px solid white;\n",
       "    padding-left: 0.25em;\n",
       "    padding-right: 0.25em;\n",
       "}\n",
       "table.dataframe th:not(:empty) {\n",
       "    background-color: #fec;\n",
       "    text-align: left;\n",
       "    font-weight: normal;\n",
       "}\n",
       "table.dataframe tr:nth-child(2) th:empty {\n",
       "    border-left: none;\n",
       "    border-right: 1px dashed #888;\n",
       "}\n",
       "table.dataframe td {\n",
       "    border: 2px solid #ccf;\n",
       "    background-color: #f4f4ff;\n",
       "}\n",
       "h3 {\n",
       "    color: white;\n",
       "    background-color: black;\n",
       "    padding: 0.5em;\n",
       "}\n",
       "</style>"
      ],
      "text/plain": [
       "<IPython.core.display.HTML object>"
      ]
     },
     "execution_count": 3,
     "metadata": {},
     "output_type": "execute_result"
    }
   ],
   "source": [
    "from IPython.core.display import HTML\n",
    "css = open('style-table.css').read() + open('style-notebook.css').read()\n",
    "HTML('<style>{}</style>'.format(css))"
   ]
  },
  {
   "cell_type": "code",
   "execution_count": 4,
   "metadata": {},
   "outputs": [
    {
     "data": {
      "text/html": [
       "<div>\n",
       "<style>\n",
       "    .dataframe thead tr:only-child th {\n",
       "        text-align: right;\n",
       "    }\n",
       "\n",
       "    .dataframe thead th {\n",
       "        text-align: left;\n",
       "    }\n",
       "\n",
       "    .dataframe tbody tr th {\n",
       "        vertical-align: top;\n",
       "    }\n",
       "</style>\n",
       "<table border=\"1\" class=\"dataframe\">\n",
       "  <thead>\n",
       "    <tr style=\"text-align: right;\">\n",
       "      <th></th>\n",
       "      <th>Date</th>\n",
       "      <th>RegionID</th>\n",
       "      <th>RegionName</th>\n",
       "      <th>State</th>\n",
       "      <th>Metro</th>\n",
       "      <th>County</th>\n",
       "      <th>City</th>\n",
       "      <th>SizeRank</th>\n",
       "      <th>Zhvi</th>\n",
       "      <th>MoM</th>\n",
       "      <th>QoQ</th>\n",
       "      <th>YoY</th>\n",
       "      <th>5Year</th>\n",
       "      <th>10Year</th>\n",
       "      <th>PeakMonth</th>\n",
       "      <th>PeakQuarter</th>\n",
       "      <th>PeakZHVI</th>\n",
       "      <th>PctFallFromPeak</th>\n",
       "      <th>LastTimeAtCurrZHVI</th>\n",
       "    </tr>\n",
       "  </thead>\n",
       "  <tbody>\n",
       "    <tr>\n",
       "      <th>5450</th>\n",
       "      <td>2017-05-31</td>\n",
       "      <td>58196</td>\n",
       "      <td>1001</td>\n",
       "      <td>MA</td>\n",
       "      <td>Springfield</td>\n",
       "      <td>Hampden</td>\n",
       "      <td>Agawam</td>\n",
       "      <td>5450</td>\n",
       "      <td>197100</td>\n",
       "      <td>0.005099</td>\n",
       "      <td>0.011288</td>\n",
       "      <td>0.066558</td>\n",
       "      <td>0.019908</td>\n",
       "      <td>-0.007074</td>\n",
       "      <td>2006-10</td>\n",
       "      <td>2006-Q4</td>\n",
       "      <td>216300</td>\n",
       "      <td>-0.088766</td>\n",
       "      <td>2005-07</td>\n",
       "    </tr>\n",
       "    <tr>\n",
       "      <th>3919</th>\n",
       "      <td>2017-05-31</td>\n",
       "      <td>58197</td>\n",
       "      <td>1002</td>\n",
       "      <td>MA</td>\n",
       "      <td>Springfield</td>\n",
       "      <td>Hampshire</td>\n",
       "      <td>Amherst</td>\n",
       "      <td>3919</td>\n",
       "      <td>318700</td>\n",
       "      <td>0.005363</td>\n",
       "      <td>0.016587</td>\n",
       "      <td>0.048011</td>\n",
       "      <td>0.025937</td>\n",
       "      <td>0.001041</td>\n",
       "      <td>2007-11</td>\n",
       "      <td>2007-Q4</td>\n",
       "      <td>323300</td>\n",
       "      <td>-0.014228</td>\n",
       "      <td>2007-07</td>\n",
       "    </tr>\n",
       "    <tr>\n",
       "      <th>10252</th>\n",
       "      <td>2017-05-31</td>\n",
       "      <td>58200</td>\n",
       "      <td>1005</td>\n",
       "      <td>MA</td>\n",
       "      <td>Worcester</td>\n",
       "      <td>Worcester</td>\n",
       "      <td>Town of Barre</td>\n",
       "      <td>10252</td>\n",
       "      <td>220600</td>\n",
       "      <td>-0.013417</td>\n",
       "      <td>-0.033304</td>\n",
       "      <td>0.063645</td>\n",
       "      <td>0.049449</td>\n",
       "      <td>0.000591</td>\n",
       "      <td>2006-04</td>\n",
       "      <td>2006-Q2</td>\n",
       "      <td>237100</td>\n",
       "      <td>-0.069591</td>\n",
       "      <td>2004-11</td>\n",
       "    </tr>\n",
       "    <tr>\n",
       "      <th>6404</th>\n",
       "      <td>2017-05-31</td>\n",
       "      <td>58201</td>\n",
       "      <td>1007</td>\n",
       "      <td>MA</td>\n",
       "      <td>Springfield</td>\n",
       "      <td>Hampshire</td>\n",
       "      <td>Town of Belchertown</td>\n",
       "      <td>6404</td>\n",
       "      <td>265200</td>\n",
       "      <td>-0.000377</td>\n",
       "      <td>0.001133</td>\n",
       "      <td>0.023148</td>\n",
       "      <td>0.024474</td>\n",
       "      <td>-0.002308</td>\n",
       "      <td>2006-10</td>\n",
       "      <td>2006-Q4</td>\n",
       "      <td>273900</td>\n",
       "      <td>-0.031763</td>\n",
       "      <td>2006-05</td>\n",
       "    </tr>\n",
       "    <tr>\n",
       "      <th>12905</th>\n",
       "      <td>2017-05-31</td>\n",
       "      <td>58202</td>\n",
       "      <td>1008</td>\n",
       "      <td>MA</td>\n",
       "      <td>Springfield</td>\n",
       "      <td>Hampden</td>\n",
       "      <td>Blandford</td>\n",
       "      <td>12905</td>\n",
       "      <td>221800</td>\n",
       "      <td>0.011861</td>\n",
       "      <td>0.031628</td>\n",
       "      <td>0.014639</td>\n",
       "      <td>0.015779</td>\n",
       "      <td>-0.002139</td>\n",
       "      <td>2010-02</td>\n",
       "      <td>2010-Q1</td>\n",
       "      <td>241300</td>\n",
       "      <td>-0.080812</td>\n",
       "      <td>2008-08</td>\n",
       "    </tr>\n",
       "  </tbody>\n",
       "</table>\n",
       "</div>"
      ],
      "text/plain": [
       "             Date  RegionID  RegionName State        Metro     County  \\\n",
       "5450   2017-05-31     58196        1001    MA  Springfield    Hampden   \n",
       "3919   2017-05-31     58197        1002    MA  Springfield  Hampshire   \n",
       "10252  2017-05-31     58200        1005    MA    Worcester  Worcester   \n",
       "6404   2017-05-31     58201        1007    MA  Springfield  Hampshire   \n",
       "12905  2017-05-31     58202        1008    MA  Springfield    Hampden   \n",
       "\n",
       "                      City  SizeRank    Zhvi       MoM       QoQ       YoY  \\\n",
       "5450                Agawam      5450  197100  0.005099  0.011288  0.066558   \n",
       "3919               Amherst      3919  318700  0.005363  0.016587  0.048011   \n",
       "10252        Town of Barre     10252  220600 -0.013417 -0.033304  0.063645   \n",
       "6404   Town of Belchertown      6404  265200 -0.000377  0.001133  0.023148   \n",
       "12905            Blandford     12905  221800  0.011861  0.031628  0.014639   \n",
       "\n",
       "          5Year    10Year PeakMonth PeakQuarter  PeakZHVI  PctFallFromPeak  \\\n",
       "5450   0.019908 -0.007074   2006-10     2006-Q4    216300        -0.088766   \n",
       "3919   0.025937  0.001041   2007-11     2007-Q4    323300        -0.014228   \n",
       "10252  0.049449  0.000591   2006-04     2006-Q2    237100        -0.069591   \n",
       "6404   0.024474 -0.002308   2006-10     2006-Q4    273900        -0.031763   \n",
       "12905  0.015779 -0.002139   2010-02     2010-Q1    241300        -0.080812   \n",
       "\n",
       "      LastTimeAtCurrZHVI  \n",
       "5450             2005-07  \n",
       "3919             2007-07  \n",
       "10252            2004-11  \n",
       "6404             2006-05  \n",
       "12905            2008-08  "
      ]
     },
     "execution_count": 4,
     "metadata": {},
     "output_type": "execute_result"
    }
   ],
   "source": [
    "homes1 = pd.DataFrame.from_csv('data/Zip_Zhvi_Summary_AllHomes.csv', index_col=None)\n",
    "homes1 = homes1.sort_values('RegionName')\n",
    "homes1.head()"
   ]
  },
  {
   "cell_type": "code",
   "execution_count": 5,
   "metadata": {},
   "outputs": [
    {
     "data": {
      "text/html": [
       "<div>\n",
       "<style>\n",
       "    .dataframe thead tr:only-child th {\n",
       "        text-align: right;\n",
       "    }\n",
       "\n",
       "    .dataframe thead th {\n",
       "        text-align: left;\n",
       "    }\n",
       "\n",
       "    .dataframe tbody tr th {\n",
       "        vertical-align: top;\n",
       "    }\n",
       "</style>\n",
       "<table border=\"1\" class=\"dataframe\">\n",
       "  <thead>\n",
       "    <tr style=\"text-align: right;\">\n",
       "      <th></th>\n",
       "      <th>RegionID</th>\n",
       "      <th>RegionName</th>\n",
       "      <th>City</th>\n",
       "      <th>State</th>\n",
       "      <th>Metro</th>\n",
       "      <th>CountyName</th>\n",
       "      <th>SizeRank</th>\n",
       "      <th>1996-04</th>\n",
       "      <th>1996-05</th>\n",
       "      <th>1996-06</th>\n",
       "      <th>...</th>\n",
       "      <th>2016-08</th>\n",
       "      <th>2016-09</th>\n",
       "      <th>2016-10</th>\n",
       "      <th>2016-11</th>\n",
       "      <th>2016-12</th>\n",
       "      <th>2017-01</th>\n",
       "      <th>2017-02</th>\n",
       "      <th>2017-03</th>\n",
       "      <th>2017-04</th>\n",
       "      <th>2017-05</th>\n",
       "    </tr>\n",
       "  </thead>\n",
       "  <tbody>\n",
       "    <tr>\n",
       "      <th>0</th>\n",
       "      <td>61639</td>\n",
       "      <td>10025</td>\n",
       "      <td>New York</td>\n",
       "      <td>NY</td>\n",
       "      <td>New York</td>\n",
       "      <td>New York</td>\n",
       "      <td>1</td>\n",
       "      <td>NaN</td>\n",
       "      <td>NaN</td>\n",
       "      <td>NaN</td>\n",
       "      <td>...</td>\n",
       "      <td>1128500</td>\n",
       "      <td>1133300</td>\n",
       "      <td>1132900</td>\n",
       "      <td>1147300</td>\n",
       "      <td>1149800.0</td>\n",
       "      <td>1132700</td>\n",
       "      <td>1121400</td>\n",
       "      <td>1123000</td>\n",
       "      <td>1143700</td>\n",
       "      <td>1178700</td>\n",
       "    </tr>\n",
       "    <tr>\n",
       "      <th>1</th>\n",
       "      <td>84654</td>\n",
       "      <td>60657</td>\n",
       "      <td>Chicago</td>\n",
       "      <td>IL</td>\n",
       "      <td>Chicago</td>\n",
       "      <td>Cook</td>\n",
       "      <td>2</td>\n",
       "      <td>146700.0</td>\n",
       "      <td>146500.0</td>\n",
       "      <td>146300.0</td>\n",
       "      <td>...</td>\n",
       "      <td>318600</td>\n",
       "      <td>318200</td>\n",
       "      <td>318100</td>\n",
       "      <td>318700</td>\n",
       "      <td>320200.0</td>\n",
       "      <td>321000</td>\n",
       "      <td>322200</td>\n",
       "      <td>323800</td>\n",
       "      <td>325900</td>\n",
       "      <td>327700</td>\n",
       "    </tr>\n",
       "    <tr>\n",
       "      <th>2</th>\n",
       "      <td>84616</td>\n",
       "      <td>60614</td>\n",
       "      <td>Chicago</td>\n",
       "      <td>IL</td>\n",
       "      <td>Chicago</td>\n",
       "      <td>Cook</td>\n",
       "      <td>3</td>\n",
       "      <td>198000.0</td>\n",
       "      <td>195500.0</td>\n",
       "      <td>194200.0</td>\n",
       "      <td>...</td>\n",
       "      <td>400700</td>\n",
       "      <td>401900</td>\n",
       "      <td>406000</td>\n",
       "      <td>414000</td>\n",
       "      <td>417800.0</td>\n",
       "      <td>417700</td>\n",
       "      <td>418700</td>\n",
       "      <td>414100</td>\n",
       "      <td>405400</td>\n",
       "      <td>401900</td>\n",
       "    </tr>\n",
       "    <tr>\n",
       "      <th>3</th>\n",
       "      <td>93144</td>\n",
       "      <td>79936</td>\n",
       "      <td>El Paso</td>\n",
       "      <td>TX</td>\n",
       "      <td>El Paso</td>\n",
       "      <td>El Paso</td>\n",
       "      <td>4</td>\n",
       "      <td>70800.0</td>\n",
       "      <td>71000.0</td>\n",
       "      <td>71000.0</td>\n",
       "      <td>...</td>\n",
       "      <td>113700</td>\n",
       "      <td>113800</td>\n",
       "      <td>113800</td>\n",
       "      <td>114100</td>\n",
       "      <td>114500.0</td>\n",
       "      <td>114900</td>\n",
       "      <td>115000</td>\n",
       "      <td>114700</td>\n",
       "      <td>114700</td>\n",
       "      <td>114800</td>\n",
       "    </tr>\n",
       "    <tr>\n",
       "      <th>4</th>\n",
       "      <td>84640</td>\n",
       "      <td>60640</td>\n",
       "      <td>Chicago</td>\n",
       "      <td>IL</td>\n",
       "      <td>Chicago</td>\n",
       "      <td>Cook</td>\n",
       "      <td>5</td>\n",
       "      <td>102300.0</td>\n",
       "      <td>101300.0</td>\n",
       "      <td>100700.0</td>\n",
       "      <td>...</td>\n",
       "      <td>200000</td>\n",
       "      <td>198800</td>\n",
       "      <td>199200</td>\n",
       "      <td>200100</td>\n",
       "      <td>201500.0</td>\n",
       "      <td>203200</td>\n",
       "      <td>205200</td>\n",
       "      <td>206700</td>\n",
       "      <td>206600</td>\n",
       "      <td>205700</td>\n",
       "    </tr>\n",
       "  </tbody>\n",
       "</table>\n",
       "<p>5 rows × 261 columns</p>\n",
       "</div>"
      ],
      "text/plain": [
       "   RegionID  RegionName      City State     Metro CountyName  SizeRank  \\\n",
       "0     61639       10025  New York    NY  New York   New York         1   \n",
       "1     84654       60657   Chicago    IL   Chicago       Cook         2   \n",
       "2     84616       60614   Chicago    IL   Chicago       Cook         3   \n",
       "3     93144       79936   El Paso    TX   El Paso    El Paso         4   \n",
       "4     84640       60640   Chicago    IL   Chicago       Cook         5   \n",
       "\n",
       "    1996-04   1996-05   1996-06   ...     2016-08  2016-09  2016-10  2016-11  \\\n",
       "0       NaN       NaN       NaN   ...     1128500  1133300  1132900  1147300   \n",
       "1  146700.0  146500.0  146300.0   ...      318600   318200   318100   318700   \n",
       "2  198000.0  195500.0  194200.0   ...      400700   401900   406000   414000   \n",
       "3   70800.0   71000.0   71000.0   ...      113700   113800   113800   114100   \n",
       "4  102300.0  101300.0  100700.0   ...      200000   198800   199200   200100   \n",
       "\n",
       "     2016-12  2017-01  2017-02  2017-03  2017-04  2017-05  \n",
       "0  1149800.0  1132700  1121400  1123000  1143700  1178700  \n",
       "1   320200.0   321000   322200   323800   325900   327700  \n",
       "2   417800.0   417700   418700   414100   405400   401900  \n",
       "3   114500.0   114900   115000   114700   114700   114800  \n",
       "4   201500.0   203200   205200   206700   206600   205700  \n",
       "\n",
       "[5 rows x 261 columns]"
      ]
     },
     "execution_count": 5,
     "metadata": {},
     "output_type": "execute_result"
    }
   ],
   "source": [
    "homes2 = pd.DataFrame.from_csv('data/Zip_Zhvi_AllHomes.csv', index_col=None)\n",
    "homes2.head()"
   ]
  },
  {
   "cell_type": "markdown",
   "metadata": {},
   "source": [
    "### Test 1 - Coastal vs. Non-Coastal States\n",
    "Null Hypothesis: The growth rate of housing prices is the same for Coastal States as for Non-Coastal States: P1 - P2 = 0\n",
    "\n",
    "Alternate Hypothesis: The growth rate of housing prices is not the same for Coastal States as for Non-Coastal States: P1 - P2 =! 0"
   ]
  },
  {
   "cell_type": "code",
   "execution_count": 6,
   "metadata": {},
   "outputs": [
    {
     "data": {
      "text/plain": [
       "<matplotlib.axes._subplots.AxesSubplot at 0x111acf1d0>"
      ]
     },
     "execution_count": 6,
     "metadata": {},
     "output_type": "execute_result"
    },
    {
     "data": {
      "image/png": "[encoded data removed]",
      "text/plain": [
       "<matplotlib.figure.Figure at 0x111af3f10>"
      ]
     },
     "metadata": {},
     "output_type": "display_data"
    }
   ],
   "source": [
    "# Defining coastal states and viewing as a bar graph\n",
    "h = homes2\n",
    "coastal_states = 'HI,RI,CA,WA,OR,TX,LA,FL,NC,SC,GA,VA,MD,DE,NJ,NY,MS,CT,MA,ME,AK'.split(',')\n",
    "h_coastal = h[h.State.isin(coastal_states)]\n",
    "h_coastal = h_coastal.groupby(h_coastal.State).mean()\n",
    "h_coastal['Percent_Growth'] = (h_coastal['2017-05'] / h_coastal['1996-04'] - 1) * 100 \n",
    "h_coastal = h_coastal.round(2)\n",
    "h_coastal = h_coastal.sort_values('Percent_Growth')\n",
    "h_coastal.Percent_Growth.plot(kind = 'bar', title = \"20-Year Housing Price Growth Rates for Coastal States\")"
   ]
  },
  {
   "cell_type": "code",
   "execution_count": 7,
   "metadata": {},
   "outputs": [
    {
     "data": {
      "text/plain": [
       "<matplotlib.axes._subplots.AxesSubplot at 0x118f0aa50>"
      ]
     },
     "execution_count": 7,
     "metadata": {},
     "output_type": "execute_result"
    },
    {
     "data": {
      "image/png": "[encoded data removed]",
      "text/plain": [
       "<matplotlib.figure.Figure at 0x113818ad0>"
      ]
     },
     "metadata": {},
     "output_type": "display_data"
    }
   ],
   "source": [
    "# Defining non-coastal states and viewing as a bar graph\n",
    "h = homes2\n",
    "notcoastal_states = 'MI,MO,OH,IL,IN,ND,SD,NE,OK,CO,UT,AZ,NM,WY,AL,AR,ID,KY,PN,WV,NV,MT,IA,NH,WI,TN,VT'.split(',')\n",
    "h_notcoastal = h[h.State.isin(notcoastal_states)]\n",
    "h_notcoastal = h_notcoastal.groupby(h_notcoastal.State).mean()\n",
    "h_notcoastal['Percent_Growth'] = (h_notcoastal['2017-05'] / h_notcoastal['1996-04'] - 1) * 100 \n",
    "h_notcoastal = h_notcoastal.round(2)\n",
    "h_notcoastal = h_notcoastal.sort_values('Percent_Growth')\n",
    "h_notcoastal.Percent_Growth.plot(kind = 'bar', title = \"20-Year Housing Price Growth Rates for Non-Coastal States\")"
   ]
  },
  {
   "cell_type": "code",
   "execution_count": 8,
   "metadata": {},
   "outputs": [
    {
     "name": "stderr",
     "output_type": "stream",
     "text": [
      "/anaconda/lib/python2.7/site-packages/ipykernel_launcher.py:3: SettingWithCopyWarning: \n",
      "A value is trying to be set on a copy of a slice from a DataFrame.\n",
      "Try using .loc[row_indexer,col_indexer] = value instead\n",
      "\n",
      "See the caveats in the documentation: http://pandas.pydata.org/pandas-docs/stable/indexing.html#indexing-view-versus-copy\n",
      "  This is separate from the ipykernel package so we can avoid doing imports until\n",
      "/anaconda/lib/python2.7/site-packages/ipykernel_launcher.py:9: SettingWithCopyWarning: \n",
      "A value is trying to be set on a copy of a slice from a DataFrame.\n",
      "Try using .loc[row_indexer,col_indexer] = value instead\n",
      "\n",
      "See the caveats in the documentation: http://pandas.pydata.org/pandas-docs/stable/indexing.html#indexing-view-versus-copy\n",
      "  if __name__ == '__main__':\n"
     ]
    },
    {
     "data": {
      "text/plain": [
       "59.933482781925946"
      ]
     },
     "execution_count": 8,
     "metadata": {},
     "output_type": "execute_result"
    }
   ],
   "source": [
    "# Defining the population for Coastal State Zip Codes\n",
    "h_coastal = h[h.State.isin(coastal_states)]\n",
    "h_coastal['Percent_Growth'] = (h_coastal['2017-05'] / h_coastal['1996-04'] - 1) * 100 \n",
    "coastal_zips = len(h_coastal)\n",
    "coastal_mean = h_coastal['Percent_Growth'].mean()\n",
    "coastal_std = h_coastal['Percent_Growth'].std()\n",
    "\n",
    "h_notcoastal = h[h.State.isin(notcoastal_states)]\n",
    "h_notcoastal['Percent_Growth'] = (h_notcoastal['2017-05'] / h_notcoastal['1996-04'] - 1) * 100 \n",
    "notcoastal_zips = len(h_notcoastal)\n",
    "notcoastal_mean = h_notcoastal['Percent_Growth'].mean()\n",
    "notcoastal_std = h_notcoastal['Percent_Growth'].std()\n",
    "\n",
    "mean = coastal_mean - notcoastal_mean\n",
    "mean"
   ]
  },
  {
   "cell_type": "code",
   "execution_count": 9,
   "metadata": {},
   "outputs": [
    {
     "data": {
      "text/plain": [
       "1.1272130202296433"
      ]
     },
     "execution_count": 9,
     "metadata": {},
     "output_type": "execute_result"
    }
   ],
   "source": [
    "# Standard Deviation of the differences in the means\n",
    "std = ((coastal_std**2)/coastal_zips + (notcoastal_std**2)/notcoastal_zips)**(1/2.0)\n",
    "std"
   ]
  },
  {
   "cell_type": "code",
   "execution_count": 10,
   "metadata": {},
   "outputs": [
    {
     "data": {
      "text/plain": [
       "(57.72414526227585, 62.142820301576045)"
      ]
     },
     "execution_count": 10,
     "metadata": {},
     "output_type": "execute_result"
    }
   ],
   "source": [
    "# Z Score for two-tailed test for alpha = .025 is 1.96.  95% confidence interval:\n",
    "mean - 1.96*std, mean + 1.96*std"
   ]
  },
  {
   "cell_type": "markdown",
   "metadata": {},
   "source": [
    "##### Based on the 95% Confidence Interval, there is a very significant difference in the housing growth for coastal states vs non-coastal states.  Coastal states on average saw a 59.9% higher growth in housing prices over the last 20 years than non-coastal states.  If the coastal and non-coastal zip codes were actually the same, the confidence interval would have to include 0, which is does not."
   ]
  },
  {
   "cell_type": "markdown",
   "metadata": {},
   "source": [
    "### Test 2 - High Household Income vs Low Household Income\n",
    "Null Hypothesis: The growth rate of housing prices is the same for zip codes in the highest quartile of Household Income (HHI) as for the lowest quartile of HHI: P1 - P2 = 0\n",
    "Alternate Hypothesis: The growth rate of housing prices is not the same for zip codes in the highest quartile and lowest quartile of HHI: P1 - P2 =! 0"
   ]
  },
  {
   "cell_type": "code",
   "execution_count": 92,
   "metadata": {},
   "outputs": [
    {
     "data": {
      "text/html": [
       "<div>\n",
       "<style>\n",
       "    .dataframe thead tr:only-child th {\n",
       "        text-align: right;\n",
       "    }\n",
       "\n",
       "    .dataframe thead th {\n",
       "        text-align: left;\n",
       "    }\n",
       "\n",
       "    .dataframe tbody tr th {\n",
       "        vertical-align: top;\n",
       "    }\n",
       "</style>\n",
       "<table border=\"1\" class=\"dataframe\">\n",
       "  <thead>\n",
       "    <tr style=\"text-align: right;\">\n",
       "      <th></th>\n",
       "      <th>Zip</th>\n",
       "      <th>Median</th>\n",
       "      <th>Mean</th>\n",
       "      <th>Pop</th>\n",
       "    </tr>\n",
       "  </thead>\n",
       "  <tbody>\n",
       "    <tr>\n",
       "      <th>0</th>\n",
       "      <td>1001</td>\n",
       "      <td>56,663</td>\n",
       "      <td>66,688</td>\n",
       "      <td>16,445</td>\n",
       "    </tr>\n",
       "    <tr>\n",
       "      <th>1</th>\n",
       "      <td>1002</td>\n",
       "      <td>49,853</td>\n",
       "      <td>75,063</td>\n",
       "      <td>28,069</td>\n",
       "    </tr>\n",
       "    <tr>\n",
       "      <th>2</th>\n",
       "      <td>1003</td>\n",
       "      <td>28,462</td>\n",
       "      <td>35,121</td>\n",
       "      <td>8,491</td>\n",
       "    </tr>\n",
       "    <tr>\n",
       "      <th>3</th>\n",
       "      <td>1005</td>\n",
       "      <td>75,423</td>\n",
       "      <td>82,442</td>\n",
       "      <td>4,798</td>\n",
       "    </tr>\n",
       "    <tr>\n",
       "      <th>4</th>\n",
       "      <td>1007</td>\n",
       "      <td>79,076</td>\n",
       "      <td>85,802</td>\n",
       "      <td>12,962</td>\n",
       "    </tr>\n",
       "  </tbody>\n",
       "</table>\n",
       "</div>"
      ],
      "text/plain": [
       "    Zip  Median    Mean     Pop\n",
       "0  1001  56,663  66,688  16,445\n",
       "1  1002  49,853  75,063  28,069\n",
       "2  1003  28,462  35,121   8,491\n",
       "3  1005  75,423  82,442   4,798\n",
       "4  1007  79,076  85,802  12,962"
      ]
     },
     "execution_count": 92,
     "metadata": {},
     "output_type": "execute_result"
    }
   ],
   "source": [
    "hhi = pd.DataFrame.from_csv('data/Income_by_zip.csv', index_col=None)\n",
    "hhi.head()"
   ]
  },
  {
   "cell_type": "code",
   "execution_count": 49,
   "metadata": {},
   "outputs": [
    {
     "data": {
      "text/html": [
       "<div>\n",
       "<style>\n",
       "    .dataframe thead tr:only-child th {\n",
       "        text-align: right;\n",
       "    }\n",
       "\n",
       "    .dataframe thead th {\n",
       "        text-align: left;\n",
       "    }\n",
       "\n",
       "    .dataframe tbody tr th {\n",
       "        vertical-align: top;\n",
       "    }\n",
       "</style>\n",
       "<table border=\"1\" class=\"dataframe\">\n",
       "  <thead>\n",
       "    <tr style=\"text-align: right;\">\n",
       "      <th></th>\n",
       "      <th>RegionName</th>\n",
       "      <th>MedianIncome</th>\n",
       "      <th>MeanIncome</th>\n",
       "      <th>Pop</th>\n",
       "    </tr>\n",
       "  </thead>\n",
       "  <tbody>\n",
       "    <tr>\n",
       "      <th>0</th>\n",
       "      <td>1001</td>\n",
       "      <td>56,663</td>\n",
       "      <td>66,688</td>\n",
       "      <td>16,445</td>\n",
       "    </tr>\n",
       "    <tr>\n",
       "      <th>1</th>\n",
       "      <td>1002</td>\n",
       "      <td>49,853</td>\n",
       "      <td>75,063</td>\n",
       "      <td>28,069</td>\n",
       "    </tr>\n",
       "    <tr>\n",
       "      <th>2</th>\n",
       "      <td>1003</td>\n",
       "      <td>28,462</td>\n",
       "      <td>35,121</td>\n",
       "      <td>8,491</td>\n",
       "    </tr>\n",
       "    <tr>\n",
       "      <th>3</th>\n",
       "      <td>1005</td>\n",
       "      <td>75,423</td>\n",
       "      <td>82,442</td>\n",
       "      <td>4,798</td>\n",
       "    </tr>\n",
       "    <tr>\n",
       "      <th>4</th>\n",
       "      <td>1007</td>\n",
       "      <td>79,076</td>\n",
       "      <td>85,802</td>\n",
       "      <td>12,962</td>\n",
       "    </tr>\n",
       "  </tbody>\n",
       "</table>\n",
       "</div>"
      ],
      "text/plain": [
       "   RegionName MedianIncome MeanIncome     Pop\n",
       "0        1001       56,663     66,688  16,445\n",
       "1        1002       49,853     75,063  28,069\n",
       "2        1003       28,462     35,121   8,491\n",
       "3        1005       75,423     82,442   4,798\n",
       "4        1007       79,076     85,802  12,962"
      ]
     },
     "execution_count": 49,
     "metadata": {},
     "output_type": "execute_result"
    }
   ],
   "source": [
    "hhi.columns = ('RegionName', 'MedianIncome', 'MeanIncome', 'Pop')\n",
    "hhi.head()"
   ]
  },
  {
   "cell_type": "code",
   "execution_count": 91,
   "metadata": {},
   "outputs": [
    {
     "ename": "KeyError",
     "evalue": "'MeanIncome'",
     "output_type": "error",
     "traceback": [
      "\u001b[0;31m---------------------------------------------------------------------------\u001b[0m",
      "\u001b[0;31mKeyError\u001b[0m                                  Traceback (most recent call last)",
      "\u001b[0;32m<ipython-input-91-bd5f1f33e5ca>\u001b[0m in \u001b[0;36m<module>\u001b[0;34m()\u001b[0m\n\u001b[0;32m----> 1\u001b[0;31m \u001b[0mhhi\u001b[0m \u001b[0;34m=\u001b[0m \u001b[0mhhi\u001b[0m\u001b[0;34m[\u001b[0m\u001b[0mpd\u001b[0m\u001b[0;34m.\u001b[0m\u001b[0mto_numeric\u001b[0m\u001b[0;34m(\u001b[0m\u001b[0mhhi\u001b[0m\u001b[0;34m[\u001b[0m\u001b[0;34m'MeanIncome'\u001b[0m\u001b[0;34m]\u001b[0m\u001b[0;34m,\u001b[0m \u001b[0merrors\u001b[0m\u001b[0;34m=\u001b[0m\u001b[0;34m'coerce'\u001b[0m\u001b[0;34m)\u001b[0m\u001b[0;34m.\u001b[0m\u001b[0mnotnull\u001b[0m\u001b[0;34m(\u001b[0m\u001b[0;34m)\u001b[0m\u001b[0;34m]\u001b[0m\u001b[0;34m\u001b[0m\u001b[0m\n\u001b[0m\u001b[1;32m      2\u001b[0m \u001b[0mhhi\u001b[0m\u001b[0;34m.\u001b[0m\u001b[0mhead\u001b[0m\u001b[0;34m(\u001b[0m\u001b[0;34m)\u001b[0m\u001b[0;34m\u001b[0m\u001b[0m\n\u001b[1;32m      3\u001b[0m \u001b[0;34m\u001b[0m\u001b[0m\n\u001b[1;32m      4\u001b[0m \u001b[0;31m#hhi['MeanIncome'].mean()\u001b[0m\u001b[0;34m\u001b[0m\u001b[0;34m\u001b[0m\u001b[0m\n",
      "\u001b[0;32m/anaconda/lib/python2.7/site-packages/pandas/core/frame.pyc\u001b[0m in \u001b[0;36m__getitem__\u001b[0;34m(self, key)\u001b[0m\n\u001b[1;32m   2060\u001b[0m             \u001b[0;32mreturn\u001b[0m \u001b[0mself\u001b[0m\u001b[0;34m.\u001b[0m\u001b[0m_getitem_multilevel\u001b[0m\u001b[0;34m(\u001b[0m\u001b[0mkey\u001b[0m\u001b[0;34m)\u001b[0m\u001b[0;34m\u001b[0m\u001b[0m\n\u001b[1;32m   2061\u001b[0m         \u001b[0;32melse\u001b[0m\u001b[0;34m:\u001b[0m\u001b[0;34m\u001b[0m\u001b[0m\n\u001b[0;32m-> 2062\u001b[0;31m             \u001b[0;32mreturn\u001b[0m \u001b[0mself\u001b[0m\u001b[0;34m.\u001b[0m\u001b[0m_getitem_column\u001b[0m\u001b[0;34m(\u001b[0m\u001b[0mkey\u001b[0m\u001b[0;34m)\u001b[0m\u001b[0;34m\u001b[0m\u001b[0m\n\u001b[0m\u001b[1;32m   2063\u001b[0m \u001b[0;34m\u001b[0m\u001b[0m\n\u001b[1;32m   2064\u001b[0m     \u001b[0;32mdef\u001b[0m \u001b[0m_getitem_column\u001b[0m\u001b[0;34m(\u001b[0m\u001b[0mself\u001b[0m\u001b[0;34m,\u001b[0m \u001b[0mkey\u001b[0m\u001b[0;34m)\u001b[0m\u001b[0;34m:\u001b[0m\u001b[0;34m\u001b[0m\u001b[0m\n",
      "\u001b[0;32m/anaconda/lib/python2.7/site-packages/pandas/core/frame.pyc\u001b[0m in \u001b[0;36m_getitem_column\u001b[0;34m(self, key)\u001b[0m\n\u001b[1;32m   2067\u001b[0m         \u001b[0;31m# get column\u001b[0m\u001b[0;34m\u001b[0m\u001b[0;34m\u001b[0m\u001b[0m\n\u001b[1;32m   2068\u001b[0m         \u001b[0;32mif\u001b[0m \u001b[0mself\u001b[0m\u001b[0;34m.\u001b[0m\u001b[0mcolumns\u001b[0m\u001b[0;34m.\u001b[0m\u001b[0mis_unique\u001b[0m\u001b[0;34m:\u001b[0m\u001b[0;34m\u001b[0m\u001b[0m\n\u001b[0;32m-> 2069\u001b[0;31m             \u001b[0;32mreturn\u001b[0m \u001b[0mself\u001b[0m\u001b[0;34m.\u001b[0m\u001b[0m_get_item_cache\u001b[0m\u001b[0;34m(\u001b[0m\u001b[0mkey\u001b[0m\u001b[0;34m)\u001b[0m\u001b[0;34m\u001b[0m\u001b[0m\n\u001b[0m\u001b[1;32m   2070\u001b[0m \u001b[0;34m\u001b[0m\u001b[0m\n\u001b[1;32m   2071\u001b[0m         \u001b[0;31m# duplicate columns & possible reduce dimensionality\u001b[0m\u001b[0;34m\u001b[0m\u001b[0;34m\u001b[0m\u001b[0m\n",
      "\u001b[0;32m/anaconda/lib/python2.7/site-packages/pandas/core/generic.pyc\u001b[0m in \u001b[0;36m_get_item_cache\u001b[0;34m(self, item)\u001b[0m\n\u001b[1;32m   1532\u001b[0m         \u001b[0mres\u001b[0m \u001b[0;34m=\u001b[0m \u001b[0mcache\u001b[0m\u001b[0;34m.\u001b[0m\u001b[0mget\u001b[0m\u001b[0;34m(\u001b[0m\u001b[0mitem\u001b[0m\u001b[0;34m)\u001b[0m\u001b[0;34m\u001b[0m\u001b[0m\n\u001b[1;32m   1533\u001b[0m         \u001b[0;32mif\u001b[0m \u001b[0mres\u001b[0m \u001b[0;32mis\u001b[0m \u001b[0mNone\u001b[0m\u001b[0;34m:\u001b[0m\u001b[0;34m\u001b[0m\u001b[0m\n\u001b[0;32m-> 1534\u001b[0;31m             \u001b[0mvalues\u001b[0m \u001b[0;34m=\u001b[0m \u001b[0mself\u001b[0m\u001b[0;34m.\u001b[0m\u001b[0m_data\u001b[0m\u001b[0;34m.\u001b[0m\u001b[0mget\u001b[0m\u001b[0;34m(\u001b[0m\u001b[0mitem\u001b[0m\u001b[0;34m)\u001b[0m\u001b[0;34m\u001b[0m\u001b[0m\n\u001b[0m\u001b[1;32m   1535\u001b[0m             \u001b[0mres\u001b[0m \u001b[0;34m=\u001b[0m \u001b[0mself\u001b[0m\u001b[0;34m.\u001b[0m\u001b[0m_box_item_values\u001b[0m\u001b[0;34m(\u001b[0m\u001b[0mitem\u001b[0m\u001b[0;34m,\u001b[0m \u001b[0mvalues\u001b[0m\u001b[0;34m)\u001b[0m\u001b[0;34m\u001b[0m\u001b[0m\n\u001b[1;32m   1536\u001b[0m             \u001b[0mcache\u001b[0m\u001b[0;34m[\u001b[0m\u001b[0mitem\u001b[0m\u001b[0;34m]\u001b[0m \u001b[0;34m=\u001b[0m \u001b[0mres\u001b[0m\u001b[0;34m\u001b[0m\u001b[0m\n",
      "\u001b[0;32m/anaconda/lib/python2.7/site-packages/pandas/core/internals.pyc\u001b[0m in \u001b[0;36mget\u001b[0;34m(self, item, fastpath)\u001b[0m\n\u001b[1;32m   3588\u001b[0m \u001b[0;34m\u001b[0m\u001b[0m\n\u001b[1;32m   3589\u001b[0m             \u001b[0;32mif\u001b[0m \u001b[0;32mnot\u001b[0m \u001b[0misnull\u001b[0m\u001b[0;34m(\u001b[0m\u001b[0mitem\u001b[0m\u001b[0;34m)\u001b[0m\u001b[0;34m:\u001b[0m\u001b[0;34m\u001b[0m\u001b[0m\n\u001b[0;32m-> 3590\u001b[0;31m                 \u001b[0mloc\u001b[0m \u001b[0;34m=\u001b[0m \u001b[0mself\u001b[0m\u001b[0;34m.\u001b[0m\u001b[0mitems\u001b[0m\u001b[0;34m.\u001b[0m\u001b[0mget_loc\u001b[0m\u001b[0;34m(\u001b[0m\u001b[0mitem\u001b[0m\u001b[0;34m)\u001b[0m\u001b[0;34m\u001b[0m\u001b[0m\n\u001b[0m\u001b[1;32m   3591\u001b[0m             \u001b[0;32melse\u001b[0m\u001b[0;34m:\u001b[0m\u001b[0;34m\u001b[0m\u001b[0m\n\u001b[1;32m   3592\u001b[0m                 \u001b[0mindexer\u001b[0m \u001b[0;34m=\u001b[0m \u001b[0mnp\u001b[0m\u001b[0;34m.\u001b[0m\u001b[0marange\u001b[0m\u001b[0;34m(\u001b[0m\u001b[0mlen\u001b[0m\u001b[0;34m(\u001b[0m\u001b[0mself\u001b[0m\u001b[0;34m.\u001b[0m\u001b[0mitems\u001b[0m\u001b[0;34m)\u001b[0m\u001b[0;34m)\u001b[0m\u001b[0;34m[\u001b[0m\u001b[0misnull\u001b[0m\u001b[0;34m(\u001b[0m\u001b[0mself\u001b[0m\u001b[0;34m.\u001b[0m\u001b[0mitems\u001b[0m\u001b[0;34m)\u001b[0m\u001b[0;34m]\u001b[0m\u001b[0;34m\u001b[0m\u001b[0m\n",
      "\u001b[0;32m/anaconda/lib/python2.7/site-packages/pandas/core/indexes/base.pyc\u001b[0m in \u001b[0;36mget_loc\u001b[0;34m(self, key, method, tolerance)\u001b[0m\n\u001b[1;32m   2393\u001b[0m                 \u001b[0;32mreturn\u001b[0m \u001b[0mself\u001b[0m\u001b[0;34m.\u001b[0m\u001b[0m_engine\u001b[0m\u001b[0;34m.\u001b[0m\u001b[0mget_loc\u001b[0m\u001b[0;34m(\u001b[0m\u001b[0mkey\u001b[0m\u001b[0;34m)\u001b[0m\u001b[0;34m\u001b[0m\u001b[0m\n\u001b[1;32m   2394\u001b[0m             \u001b[0;32mexcept\u001b[0m \u001b[0mKeyError\u001b[0m\u001b[0;34m:\u001b[0m\u001b[0;34m\u001b[0m\u001b[0m\n\u001b[0;32m-> 2395\u001b[0;31m                 \u001b[0;32mreturn\u001b[0m \u001b[0mself\u001b[0m\u001b[0;34m.\u001b[0m\u001b[0m_engine\u001b[0m\u001b[0;34m.\u001b[0m\u001b[0mget_loc\u001b[0m\u001b[0;34m(\u001b[0m\u001b[0mself\u001b[0m\u001b[0;34m.\u001b[0m\u001b[0m_maybe_cast_indexer\u001b[0m\u001b[0;34m(\u001b[0m\u001b[0mkey\u001b[0m\u001b[0;34m)\u001b[0m\u001b[0;34m)\u001b[0m\u001b[0;34m\u001b[0m\u001b[0m\n\u001b[0m\u001b[1;32m   2396\u001b[0m \u001b[0;34m\u001b[0m\u001b[0m\n\u001b[1;32m   2397\u001b[0m         \u001b[0mindexer\u001b[0m \u001b[0;34m=\u001b[0m \u001b[0mself\u001b[0m\u001b[0;34m.\u001b[0m\u001b[0mget_indexer\u001b[0m\u001b[0;34m(\u001b[0m\u001b[0;34m[\u001b[0m\u001b[0mkey\u001b[0m\u001b[0;34m]\u001b[0m\u001b[0;34m,\u001b[0m \u001b[0mmethod\u001b[0m\u001b[0;34m=\u001b[0m\u001b[0mmethod\u001b[0m\u001b[0;34m,\u001b[0m \u001b[0mtolerance\u001b[0m\u001b[0;34m=\u001b[0m\u001b[0mtolerance\u001b[0m\u001b[0;34m)\u001b[0m\u001b[0;34m\u001b[0m\u001b[0m\n",
      "\u001b[0;32mpandas/_libs/index.pyx\u001b[0m in \u001b[0;36mpandas._libs.index.IndexEngine.get_loc (pandas/_libs/index.c:5239)\u001b[0;34m()\u001b[0m\n",
      "\u001b[0;32mpandas/_libs/index.pyx\u001b[0m in \u001b[0;36mpandas._libs.index.IndexEngine.get_loc (pandas/_libs/index.c:5085)\u001b[0;34m()\u001b[0m\n",
      "\u001b[0;32mpandas/_libs/hashtable_class_helper.pxi\u001b[0m in \u001b[0;36mpandas._libs.hashtable.PyObjectHashTable.get_item (pandas/_libs/hashtable.c:20405)\u001b[0;34m()\u001b[0m\n",
      "\u001b[0;32mpandas/_libs/hashtable_class_helper.pxi\u001b[0m in \u001b[0;36mpandas._libs.hashtable.PyObjectHashTable.get_item (pandas/_libs/hashtable.c:20359)\u001b[0;34m()\u001b[0m\n",
      "\u001b[0;31mKeyError\u001b[0m: 'MeanIncome'"
     ]
    }
   ],
   "source": [
    "#attempting to convert MeanIncome to numeric values\n",
    "hhi = hhi[pd.to_numeric(hhi['MeanIncome'], errors='coerce').notnull()]\n",
    "hhi.head()\n",
    "\n",
    "#hhi['MeanIncome'].mean()"
   ]
  },
  {
   "cell_type": "code",
   "execution_count": 77,
   "metadata": {},
   "outputs": [
    {
     "data": {
      "text/html": [
       "<div>\n",
       "<style>\n",
       "    .dataframe thead tr:only-child th {\n",
       "        text-align: right;\n",
       "    }\n",
       "\n",
       "    .dataframe thead th {\n",
       "        text-align: left;\n",
       "    }\n",
       "\n",
       "    .dataframe tbody tr th {\n",
       "        vertical-align: top;\n",
       "    }\n",
       "</style>\n",
       "<table border=\"1\" class=\"dataframe\">\n",
       "  <thead>\n",
       "    <tr style=\"text-align: right;\">\n",
       "      <th></th>\n",
       "      <th>RegionNamestr</th>\n",
       "      <th>MedianIncome</th>\n",
       "      <th>MeanIncome</th>\n",
       "      <th>Pop</th>\n",
       "      <th>RegionID</th>\n",
       "      <th>RegionNamestr</th>\n",
       "      <th>City</th>\n",
       "      <th>State</th>\n",
       "      <th>Metro</th>\n",
       "      <th>CountyName</th>\n",
       "      <th>...</th>\n",
       "      <th>2016-08</th>\n",
       "      <th>2016-09</th>\n",
       "      <th>2016-10</th>\n",
       "      <th>2016-11</th>\n",
       "      <th>2016-12</th>\n",
       "      <th>2017-01</th>\n",
       "      <th>2017-02</th>\n",
       "      <th>2017-03</th>\n",
       "      <th>2017-04</th>\n",
       "      <th>2017-05</th>\n",
       "    </tr>\n",
       "  </thead>\n",
       "  <tbody>\n",
       "    <tr>\n",
       "      <th>0</th>\n",
       "      <td>1001</td>\n",
       "      <td>56,663</td>\n",
       "      <td>66,688</td>\n",
       "      <td>16,445</td>\n",
       "      <td>72480.0</td>\n",
       "      <td>33178.0</td>\n",
       "      <td>Doral</td>\n",
       "      <td>FL</td>\n",
       "      <td>Miami-Fort Lauderdale</td>\n",
       "      <td>Miami-Dade</td>\n",
       "      <td>...</td>\n",
       "      <td>323000.0</td>\n",
       "      <td>325700.0</td>\n",
       "      <td>328700.0</td>\n",
       "      <td>331100.0</td>\n",
       "      <td>332800.0</td>\n",
       "      <td>333200.0</td>\n",
       "      <td>331400.0</td>\n",
       "      <td>328300.0</td>\n",
       "      <td>326700.0</td>\n",
       "      <td>326300.0</td>\n",
       "    </tr>\n",
       "    <tr>\n",
       "      <th>1</th>\n",
       "      <td>1002</td>\n",
       "      <td>49,853</td>\n",
       "      <td>75,063</td>\n",
       "      <td>28,069</td>\n",
       "      <td>96996.0</td>\n",
       "      <td>92692.0</td>\n",
       "      <td>Mission Viejo</td>\n",
       "      <td>CA</td>\n",
       "      <td>Los Angeles-Long Beach-Anaheim</td>\n",
       "      <td>Orange</td>\n",
       "      <td>...</td>\n",
       "      <td>678000.0</td>\n",
       "      <td>681600.0</td>\n",
       "      <td>685400.0</td>\n",
       "      <td>689300.0</td>\n",
       "      <td>692500.0</td>\n",
       "      <td>694400.0</td>\n",
       "      <td>694400.0</td>\n",
       "      <td>693000.0</td>\n",
       "      <td>691000.0</td>\n",
       "      <td>690200.0</td>\n",
       "    </tr>\n",
       "    <tr>\n",
       "      <th>2</th>\n",
       "      <td>1003</td>\n",
       "      <td>28,462</td>\n",
       "      <td>35,121</td>\n",
       "      <td>8,491</td>\n",
       "      <td>67770.0</td>\n",
       "      <td>23602.0</td>\n",
       "      <td>Newport News</td>\n",
       "      <td>VA</td>\n",
       "      <td>Virginia Beach</td>\n",
       "      <td>Newport News City</td>\n",
       "      <td>...</td>\n",
       "      <td>185900.0</td>\n",
       "      <td>186300.0</td>\n",
       "      <td>186300.0</td>\n",
       "      <td>186200.0</td>\n",
       "      <td>185900.0</td>\n",
       "      <td>185300.0</td>\n",
       "      <td>185200.0</td>\n",
       "      <td>185300.0</td>\n",
       "      <td>185200.0</td>\n",
       "      <td>185000.0</td>\n",
       "    </tr>\n",
       "    <tr>\n",
       "      <th>3</th>\n",
       "      <td>1005</td>\n",
       "      <td>75,423</td>\n",
       "      <td>82,442</td>\n",
       "      <td>4,798</td>\n",
       "      <td>99508.0</td>\n",
       "      <td>98023.0</td>\n",
       "      <td>Federal Way</td>\n",
       "      <td>WA</td>\n",
       "      <td>Seattle</td>\n",
       "      <td>King</td>\n",
       "      <td>...</td>\n",
       "      <td>325300.0</td>\n",
       "      <td>327500.0</td>\n",
       "      <td>330400.0</td>\n",
       "      <td>332500.0</td>\n",
       "      <td>334100.0</td>\n",
       "      <td>334800.0</td>\n",
       "      <td>337200.0</td>\n",
       "      <td>341900.0</td>\n",
       "      <td>347600.0</td>\n",
       "      <td>352400.0</td>\n",
       "    </tr>\n",
       "    <tr>\n",
       "      <th>4</th>\n",
       "      <td>1007</td>\n",
       "      <td>79,076</td>\n",
       "      <td>85,802</td>\n",
       "      <td>12,962</td>\n",
       "      <td>81623.0</td>\n",
       "      <td>54220.0</td>\n",
       "      <td>Manitowoc</td>\n",
       "      <td>WI</td>\n",
       "      <td>Manitowoc</td>\n",
       "      <td>Manitowoc</td>\n",
       "      <td>...</td>\n",
       "      <td>98600.0</td>\n",
       "      <td>98900.0</td>\n",
       "      <td>99400.0</td>\n",
       "      <td>100200.0</td>\n",
       "      <td>101000.0</td>\n",
       "      <td>101800.0</td>\n",
       "      <td>102300.0</td>\n",
       "      <td>103000.0</td>\n",
       "      <td>104200.0</td>\n",
       "      <td>105200.0</td>\n",
       "    </tr>\n",
       "  </tbody>\n",
       "</table>\n",
       "<p>5 rows × 265 columns</p>\n",
       "</div>"
      ],
      "text/plain": [
       "   RegionNamestr MedianIncome MeanIncome     Pop  RegionID  RegionNamestr  \\\n",
       "0           1001       56,663     66,688  16,445   72480.0        33178.0   \n",
       "1           1002       49,853     75,063  28,069   96996.0        92692.0   \n",
       "2           1003       28,462     35,121   8,491   67770.0        23602.0   \n",
       "3           1005       75,423     82,442   4,798   99508.0        98023.0   \n",
       "4           1007       79,076     85,802  12,962   81623.0        54220.0   \n",
       "\n",
       "            City State                           Metro         CountyName  \\\n",
       "0          Doral    FL           Miami-Fort Lauderdale         Miami-Dade   \n",
       "1  Mission Viejo    CA  Los Angeles-Long Beach-Anaheim             Orange   \n",
       "2   Newport News    VA                  Virginia Beach  Newport News City   \n",
       "3    Federal Way    WA                         Seattle               King   \n",
       "4      Manitowoc    WI                       Manitowoc          Manitowoc   \n",
       "\n",
       "     ...      2016-08   2016-09   2016-10   2016-11   2016-12   2017-01  \\\n",
       "0    ...     323000.0  325700.0  328700.0  331100.0  332800.0  333200.0   \n",
       "1    ...     678000.0  681600.0  685400.0  689300.0  692500.0  694400.0   \n",
       "2    ...     185900.0  186300.0  186300.0  186200.0  185900.0  185300.0   \n",
       "3    ...     325300.0  327500.0  330400.0  332500.0  334100.0  334800.0   \n",
       "4    ...      98600.0   98900.0   99400.0  100200.0  101000.0  101800.0   \n",
       "\n",
       "    2017-02   2017-03   2017-04   2017-05  \n",
       "0  331400.0  328300.0  326700.0  326300.0  \n",
       "1  694400.0  693000.0  691000.0  690200.0  \n",
       "2  185200.0  185300.0  185200.0  185000.0  \n",
       "3  337200.0  341900.0  347600.0  352400.0  \n",
       "4  102300.0  103000.0  104200.0  105200.0  \n",
       "\n",
       "[5 rows x 265 columns]"
      ]
     },
     "execution_count": 77,
     "metadata": {},
     "output_type": "execute_result"
    }
   ],
   "source": [
    "df = hhi.join(h, on='RegionName', how='left', lsuffix= 'str', rsuffix= 'str', sort=False)\n",
    "df.head()"
   ]
  },
  {
   "cell_type": "code",
   "execution_count": 79,
   "metadata": {},
   "outputs": [
    {
     "data": {
      "text/plain": [
       "[high, low]\n",
       "Categories (3, object): [high < low < medium]"
      ]
     },
     "execution_count": 79,
     "metadata": {},
     "output_type": "execute_result"
    }
   ],
   "source": [
    "pd.qcut(range(2), 3, labels=[\"high\",\"medium\",\"low\"])"
   ]
  },
  {
   "cell_type": "code",
   "execution_count": null,
   "metadata": {
    "collapsed": true
   },
   "outputs": [],
   "source": []
  },
  {
   "cell_type": "markdown",
   "metadata": {},
   "source": [
    "### Test 3 - High Volatility and High Growth\n",
    "\n",
    "Null Hypothesis: The growth rate of housing prices is the same for zip codes that saw bigger than average declines during the late 2000's housing crisis (bigcrash) as for those that saw smaller than average declines (smallcrash): P1 - P2 = 0\n",
    "Alternate Hypothesis: The growth rate of housing prices is not the same for bigcrash and smallcrash zip codes: P1 - P2 =! 0"
   ]
  },
  {
   "cell_type": "code",
   "execution_count": 100,
   "metadata": {},
   "outputs": [
    {
     "data": {
      "text/html": [
       "<div>\n",
       "<style>\n",
       "    .dataframe thead tr:only-child th {\n",
       "        text-align: right;\n",
       "    }\n",
       "\n",
       "    .dataframe thead th {\n",
       "        text-align: left;\n",
       "    }\n",
       "\n",
       "    .dataframe tbody tr th {\n",
       "        vertical-align: top;\n",
       "    }\n",
       "</style>\n",
       "<table border=\"1\" class=\"dataframe\">\n",
       "  <thead>\n",
       "    <tr style=\"text-align: right;\">\n",
       "      <th></th>\n",
       "      <th>RegionID</th>\n",
       "      <th>RegionName</th>\n",
       "      <th>City</th>\n",
       "      <th>State</th>\n",
       "      <th>Metro</th>\n",
       "      <th>CountyName</th>\n",
       "      <th>SizeRank</th>\n",
       "      <th>1996-04</th>\n",
       "      <th>1996-05</th>\n",
       "      <th>1996-06</th>\n",
       "      <th>...</th>\n",
       "      <th>2016-09</th>\n",
       "      <th>2016-10</th>\n",
       "      <th>2016-11</th>\n",
       "      <th>2016-12</th>\n",
       "      <th>2017-01</th>\n",
       "      <th>2017-02</th>\n",
       "      <th>2017-03</th>\n",
       "      <th>2017-04</th>\n",
       "      <th>2017-05</th>\n",
       "      <th>Percent_Dip</th>\n",
       "    </tr>\n",
       "  </thead>\n",
       "  <tbody>\n",
       "    <tr>\n",
       "      <th>2537</th>\n",
       "      <td>98131</td>\n",
       "      <td>95351</td>\n",
       "      <td>Modesto</td>\n",
       "      <td>CA</td>\n",
       "      <td>Modesto</td>\n",
       "      <td>Stanislaus</td>\n",
       "      <td>2538</td>\n",
       "      <td>78000.0</td>\n",
       "      <td>77500.0</td>\n",
       "      <td>77200.0</td>\n",
       "      <td>...</td>\n",
       "      <td>186600</td>\n",
       "      <td>187700</td>\n",
       "      <td>188900</td>\n",
       "      <td>190000.0</td>\n",
       "      <td>190900</td>\n",
       "      <td>192400</td>\n",
       "      <td>194800</td>\n",
       "      <td>198300</td>\n",
       "      <td>202100</td>\n",
       "      <td>-74.64</td>\n",
       "    </tr>\n",
       "    <tr>\n",
       "      <th>5905</th>\n",
       "      <td>98048</td>\n",
       "      <td>95215</td>\n",
       "      <td>Garden Acres</td>\n",
       "      <td>CA</td>\n",
       "      <td>Stockton</td>\n",
       "      <td>San Joaquin</td>\n",
       "      <td>5906</td>\n",
       "      <td>67500.0</td>\n",
       "      <td>66900.0</td>\n",
       "      <td>66700.0</td>\n",
       "      <td>...</td>\n",
       "      <td>162300</td>\n",
       "      <td>163700</td>\n",
       "      <td>164400</td>\n",
       "      <td>166500.0</td>\n",
       "      <td>169100</td>\n",
       "      <td>171800</td>\n",
       "      <td>174700</td>\n",
       "      <td>177900</td>\n",
       "      <td>180600</td>\n",
       "      <td>-74.11</td>\n",
       "    </tr>\n",
       "    <tr>\n",
       "      <th>10780</th>\n",
       "      <td>98143</td>\n",
       "      <td>95365</td>\n",
       "      <td>Planada</td>\n",
       "      <td>CA</td>\n",
       "      <td>Merced</td>\n",
       "      <td>Merced</td>\n",
       "      <td>10781</td>\n",
       "      <td>69600.0</td>\n",
       "      <td>69700.0</td>\n",
       "      <td>69200.0</td>\n",
       "      <td>...</td>\n",
       "      <td>132100</td>\n",
       "      <td>133000</td>\n",
       "      <td>131800</td>\n",
       "      <td>129300.0</td>\n",
       "      <td>127900</td>\n",
       "      <td>127100</td>\n",
       "      <td>125900</td>\n",
       "      <td>125900</td>\n",
       "      <td>126800</td>\n",
       "      <td>-73.67</td>\n",
       "    </tr>\n",
       "    <tr>\n",
       "      <th>386</th>\n",
       "      <td>95806</td>\n",
       "      <td>89110</td>\n",
       "      <td>Las Vegas</td>\n",
       "      <td>NV</td>\n",
       "      <td>Las Vegas</td>\n",
       "      <td>Clark</td>\n",
       "      <td>387</td>\n",
       "      <td>94700.0</td>\n",
       "      <td>94700.0</td>\n",
       "      <td>94600.0</td>\n",
       "      <td>...</td>\n",
       "      <td>153500</td>\n",
       "      <td>154700</td>\n",
       "      <td>156500</td>\n",
       "      <td>157400.0</td>\n",
       "      <td>157900</td>\n",
       "      <td>159300</td>\n",
       "      <td>161200</td>\n",
       "      <td>162900</td>\n",
       "      <td>164100</td>\n",
       "      <td>-72.96</td>\n",
       "    </tr>\n",
       "    <tr>\n",
       "      <th>7861</th>\n",
       "      <td>98164</td>\n",
       "      <td>95388</td>\n",
       "      <td>Winton</td>\n",
       "      <td>CA</td>\n",
       "      <td>Merced</td>\n",
       "      <td>Merced</td>\n",
       "      <td>7862</td>\n",
       "      <td>74400.0</td>\n",
       "      <td>74300.0</td>\n",
       "      <td>74200.0</td>\n",
       "      <td>...</td>\n",
       "      <td>153000</td>\n",
       "      <td>155800</td>\n",
       "      <td>158400</td>\n",
       "      <td>161500.0</td>\n",
       "      <td>164900</td>\n",
       "      <td>167600</td>\n",
       "      <td>168900</td>\n",
       "      <td>170500</td>\n",
       "      <td>172500</td>\n",
       "      <td>-72.89</td>\n",
       "    </tr>\n",
       "  </tbody>\n",
       "</table>\n",
       "<p>5 rows × 262 columns</p>\n",
       "</div>"
      ],
      "text/plain": [
       "       RegionID  RegionName          City State      Metro   CountyName  \\\n",
       "2537      98131       95351       Modesto    CA    Modesto   Stanislaus   \n",
       "5905      98048       95215  Garden Acres    CA   Stockton  San Joaquin   \n",
       "10780     98143       95365       Planada    CA     Merced       Merced   \n",
       "386       95806       89110     Las Vegas    NV  Las Vegas        Clark   \n",
       "7861      98164       95388        Winton    CA     Merced       Merced   \n",
       "\n",
       "       SizeRank  1996-04  1996-05  1996-06     ...       2016-09  2016-10  \\\n",
       "2537       2538  78000.0  77500.0  77200.0     ...        186600   187700   \n",
       "5905       5906  67500.0  66900.0  66700.0     ...        162300   163700   \n",
       "10780     10781  69600.0  69700.0  69200.0     ...        132100   133000   \n",
       "386         387  94700.0  94700.0  94600.0     ...        153500   154700   \n",
       "7861       7862  74400.0  74300.0  74200.0     ...        153000   155800   \n",
       "\n",
       "       2016-11   2016-12  2017-01  2017-02  2017-03  2017-04  2017-05  \\\n",
       "2537    188900  190000.0   190900   192400   194800   198300   202100   \n",
       "5905    164400  166500.0   169100   171800   174700   177900   180600   \n",
       "10780   131800  129300.0   127900   127100   125900   125900   126800   \n",
       "386     156500  157400.0   157900   159300   161200   162900   164100   \n",
       "7861    158400  161500.0   164900   167600   168900   170500   172500   \n",
       "\n",
       "       Percent_Dip  \n",
       "2537        -74.64  \n",
       "5905        -74.11  \n",
       "10780       -73.67  \n",
       "386         -72.96  \n",
       "7861        -72.89  \n",
       "\n",
       "[5 rows x 262 columns]"
      ]
     },
     "execution_count": 100,
     "metadata": {},
     "output_type": "execute_result"
    }
   ],
   "source": [
    "h = homes2\n",
    "h['Percent_Dip'] = (h['2012-02'] / h['2006-07'] - 1) * 100 \n",
    "h = h.sort_values('Percent_Dip')\n",
    "h = h.round(2)\n",
    "h.head()"
   ]
  },
  {
   "cell_type": "code",
   "execution_count": 115,
   "metadata": {},
   "outputs": [
    {
     "data": {
      "text/plain": [
       "-18.78"
      ]
     },
     "execution_count": 115,
     "metadata": {},
     "output_type": "execute_result"
    }
   ],
   "source": [
    "h['Percent_Dip'].median()"
   ]
  },
  {
   "cell_type": "code",
   "execution_count": 106,
   "metadata": {},
   "outputs": [
    {
     "data": {
      "text/plain": [
       "nan"
      ]
     },
     "execution_count": 106,
     "metadata": {},
     "output_type": "execute_result"
    }
   ],
   "source": [
    "np.percentile(h['Percent_Dip'], 75)"
   ]
  },
  {
   "cell_type": "code",
   "execution_count": 109,
   "metadata": {},
   "outputs": [
    {
     "data": {
      "text/plain": [
       "<matplotlib.axes._subplots.AxesSubplot at 0x11db26350>"
      ]
     },
     "execution_count": 109,
     "metadata": {},
     "output_type": "execute_result"
    },
    {
     "data": {
      "image/png": "[encoded data removed]",
      "text/plain": [
       "<matplotlib.figure.Figure at 0x11db55e90>"
      ]
     },
     "metadata": {},
     "output_type": "display_data"
    }
   ],
   "source": [
    "h['Percent_Dip'].plot(kind = 'hist', bins = 10)"
   ]
  },
  {
   "cell_type": "code",
   "execution_count": null,
   "metadata": {
    "collapsed": true
   },
   "outputs": [],
   "source": []
  },
  {
   "cell_type": "code",
   "execution_count": 122,
   "metadata": {},
   "outputs": [
    {
     "name": "stderr",
     "output_type": "stream",
     "text": [
      "/anaconda/lib/python2.7/site-packages/ipykernel_launcher.py:3: SettingWithCopyWarning: \n",
      "A value is trying to be set on a copy of a slice from a DataFrame.\n",
      "Try using .loc[row_indexer,col_indexer] = value instead\n",
      "\n",
      "See the caveats in the documentation: http://pandas.pydata.org/pandas-docs/stable/indexing.html#indexing-view-versus-copy\n",
      "  This is separate from the ipykernel package so we can avoid doing imports until\n",
      "/anaconda/lib/python2.7/site-packages/ipykernel_launcher.py:9: SettingWithCopyWarning: \n",
      "A value is trying to be set on a copy of a slice from a DataFrame.\n",
      "Try using .loc[row_indexer,col_indexer] = value instead\n",
      "\n",
      "See the caveats in the documentation: http://pandas.pydata.org/pandas-docs/stable/indexing.html#indexing-view-versus-copy\n",
      "  if __name__ == '__main__':\n"
     ]
    },
    {
     "data": {
      "text/plain": [
       "-7.258541206695639"
      ]
     },
     "execution_count": 122,
     "metadata": {},
     "output_type": "execute_result"
    }
   ],
   "source": [
    "# Defining the population for the Zip Codes that saw the biggest crashes vs smallest crashes\n",
    "h_bigcrash = h[h.Percent_Dip > 18.8]\n",
    "h_bigcrash['Percent_Growth'] = (h_bigcrash['2017-05'] / h_bigcrash['1996-04'] - 1) * 100 \n",
    "bigcrash_zips = len(h_bigcrash)\n",
    "bigcrash_mean = h_bigcrash['Percent_Growth'].mean()\n",
    "bigcrash_std = h_bigcrash['Percent_Growth'].std()\n",
    "\n",
    "h_smallcrash = h[h.Percent_Dip < 18.8]\n",
    "h_smallcrash['Percent_Growth'] = (h_smallcrash['2017-05'] / h_smallcrash['1996-04'] - 1) * 100 \n",
    "smallcrash_zips = len(h_smallcrash)\n",
    "smallcrash_mean = h_smallcrash['Percent_Growth'].mean()\n",
    "smallcrash_std = h_smallcrash['Percent_Growth'].std()\n",
    "\n",
    "mean = bigcrash_mean - smallcrash_mean\n",
    "mean"
   ]
  },
  {
   "cell_type": "code",
   "execution_count": 119,
   "metadata": {},
   "outputs": [
    {
     "data": {
      "text/plain": [
       "4.87174695897625"
      ]
     },
     "execution_count": 119,
     "metadata": {},
     "output_type": "execute_result"
    }
   ],
   "source": [
    "# Standard Deviation of the differences in the means\n",
    "std = ((bigcrash_std**2)/bigcrash_zips + (smallcrash_std**2)/smallcrash_zips)**(1/2.0)\n",
    "std"
   ]
  },
  {
   "cell_type": "code",
   "execution_count": 121,
   "metadata": {},
   "outputs": [
    {
     "data": {
      "text/plain": [
       "(-16.807165246289088, 2.290082832897811)"
      ]
     },
     "execution_count": 121,
     "metadata": {},
     "output_type": "execute_result"
    }
   ],
   "source": [
    "# Z Score for two-tailed test for alpha = .025 is 1.96.  95% confidence interval:\n",
    "mean - 1.96*std, mean + 1.96*std\n"
   ]
  },
  {
   "cell_type": "markdown",
   "metadata": {},
   "source": [
    "##### Based on the 95% Confidence Interval, there is not a significant difference betweeen the zip codes that had a big crash vs small crash in terms of overall growth over the last 20 years."
   ]
  },
  {
   "cell_type": "markdown",
   "metadata": {},
   "source": [
    "### Summary\n",
    "\n",
    "1. Coastal vs. Non-Coastal States - The inferential statistical analysis showed that there is, in fact, a significant difference in the overall housing price growth among Coastal vs Non-Coastal states.  Zip codes in coastal states saw 60% higher growth over the last 20 years, with a 95% confidence interval ranging from 57.1% to 62.1%.  Coastal proximity seems to be a significant factor in housing price growth.\n",
    "\n",
    "2. Household Income - TBD\n",
    "\n",
    "3. Volatility and Growth - The inferential statistical analysis showed that there is not a significant difference in growth between the zip codes that saw bigger declines in the 2000s housing crisis, vs those that saw smaller declines.  Housing market volatility does not seem to be a strong predictor of overall growth in housing prices. \n",
    "\n"
   ]
  },
  {
   "cell_type": "code",
   "execution_count": null,
   "metadata": {
    "collapsed": true
   },
   "outputs": [],
   "source": []
  }
 ],
 "metadata": {
  "kernelspec": {
   "display_name": "Python 2",
   "language": "python",
   "name": "python2"
  },
  "language_info": {
   "codemirror_mode": {
    "name": "ipython",
    "version": 2
   },
   "file_extension": ".py",
   "mimetype": "text/x-python",
   "name": "python",
   "nbconvert_exporter": "python",
   "pygments_lexer": "ipython2",
   "version": "2.7.13"
  }
 },
 "nbformat": 4,
 "nbformat_minor": 2
}
