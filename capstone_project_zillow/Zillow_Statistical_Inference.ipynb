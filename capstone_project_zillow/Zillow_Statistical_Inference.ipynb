{
 "cells": [
  {
   "cell_type": "markdown",
   "metadata": {},
   "source": [
    "## Statistical Inference Testing - Zillow & Predicting the Hot Housing Markets"
   ]
  },
  {
   "cell_type": "markdown",
   "metadata": {},
   "source": [
    "##### After looking at the initial descriptive statistics of the Zillow data, there are a few areas that stand out for further exploration with inferential statistics:\n",
    "1. Coastal vs Non-Coastal Regions - the states that saw the highest growth over the last 20 years are also on the coast.  Because of this I explored whether there was an overal significant difference in housing price growth rates of coastal vs non-coastal states.  The inferential statistical analysis showed that there is, in fact, a significant difference in the overall housing price growth among Coastal vs Non-Coastal states. Zip codes in coastal states saw 60% higher growth over the last 20 years, with a 95% confidence interval ranging from 57.1% to 62.1%. Coastal proximity seems to be a significant factor in housing price growth.\n",
    "\n",
    "2. West Coast vs East Coast Regions - based on the overall higher growth in coastal regions, I wanted to further break that down by East and West Coast to see if the growth was more concentrated on one coast or the other.  The analysis showed that the West Coast saw significantly more growth, with 82.5% higher growth in housing prices over the last 20 years than East Coast states.\n",
    "\n",
    "3. Household Income - Using another dataset with mean and median household incomes by zip code, I explored how areas with the highest, lowest and medium household incomes compare in overall growth rate of housing prices.\n",
    "\n",
    "4. Volatility and Growth - in the descriptive statistics, some of the fastest-growing states also saw the biggest crashes in the housing crisis of the late 2000's.  I compared the regions that had bigger than average crashes with the regions with smaller than average crashes to understand the relationship.  The inferential statistical analysis showed that there is indeed a significant difference in growth between the zip codes that saw bigger declines in the 2000s housing crisis, vs those that saw smaller declines.  The zip codes with a big crash saw, on average, 21.7% higher growth than those with a small crash.\n"
   ]
  },
  {
   "cell_type": "code",
   "execution_count": 17,
   "metadata": {
    "collapsed": true
   },
   "outputs": [],
   "source": [
    "%matplotlib inline\n",
    "import numpy as np\n",
    "import pandas as pd\n",
    "import matplotlib as mpl\n",
    "import matplotlib.pyplot as plt"
   ]
  },
  {
   "cell_type": "code",
   "execution_count": 18,
   "metadata": {
    "collapsed": true
   },
   "outputs": [],
   "source": [
    "import seaborn as sns\n",
    "sns.set(color_codes=True)"
   ]
  },
  {
   "cell_type": "code",
   "execution_count": 19,
   "metadata": {},
   "outputs": [
    {
     "data": {
      "text/html": [
       "<style>body {\n",
       "    margin: 0;\n",
       "    font-family: Helvetica;\n",
       "}\n",
       "table.dataframe {\n",
       "    border-collapse: collapse;\n",
       "    border: none;\n",
       "}\n",
       "table.dataframe tr {\n",
       "    border: none;\n",
       "}\n",
       "table.dataframe td, table.dataframe th {\n",
       "    margin: 0;\n",
       "    border: 1px solid white;\n",
       "    padding-left: 0.25em;\n",
       "    padding-right: 0.25em;\n",
       "}\n",
       "table.dataframe th:not(:empty) {\n",
       "    background-color: #fec;\n",
       "    text-align: left;\n",
       "    font-weight: normal;\n",
       "}\n",
       "table.dataframe tr:nth-child(2) th:empty {\n",
       "    border-left: none;\n",
       "    border-right: 1px dashed #888;\n",
       "}\n",
       "table.dataframe td {\n",
       "    border: 2px solid #ccf;\n",
       "    background-color: #f4f4ff;\n",
       "}\n",
       "h3 {\n",
       "    color: white;\n",
       "    background-color: black;\n",
       "    padding: 0.5em;\n",
       "}\n",
       "</style>"
      ],
      "text/plain": [
       "<IPython.core.display.HTML object>"
      ]
     },
     "execution_count": 19,
     "metadata": {},
     "output_type": "execute_result"
    }
   ],
   "source": [
    "from IPython.core.display import HTML\n",
    "css = open('style-table.css').read() + open('style-notebook.css').read()\n",
    "HTML('<style>{}</style>'.format(css))"
   ]
  },
  {
   "cell_type": "code",
   "execution_count": 20,
   "metadata": {},
   "outputs": [
    {
     "data": {
      "text/html": [
       "<div>\n",
       "<style>\n",
       "    .dataframe thead tr:only-child th {\n",
       "        text-align: right;\n",
       "    }\n",
       "\n",
       "    .dataframe thead th {\n",
       "        text-align: left;\n",
       "    }\n",
       "\n",
       "    .dataframe tbody tr th {\n",
       "        vertical-align: top;\n",
       "    }\n",
       "</style>\n",
       "<table border=\"1\" class=\"dataframe\">\n",
       "  <thead>\n",
       "    <tr style=\"text-align: right;\">\n",
       "      <th></th>\n",
       "      <th>Date</th>\n",
       "      <th>RegionID</th>\n",
       "      <th>RegionName</th>\n",
       "      <th>State</th>\n",
       "      <th>Metro</th>\n",
       "      <th>County</th>\n",
       "      <th>City</th>\n",
       "      <th>SizeRank</th>\n",
       "      <th>Zhvi</th>\n",
       "      <th>MoM</th>\n",
       "      <th>QoQ</th>\n",
       "      <th>YoY</th>\n",
       "      <th>5Year</th>\n",
       "      <th>10Year</th>\n",
       "      <th>PeakMonth</th>\n",
       "      <th>PeakQuarter</th>\n",
       "      <th>PeakZHVI</th>\n",
       "      <th>PctFallFromPeak</th>\n",
       "      <th>LastTimeAtCurrZHVI</th>\n",
       "    </tr>\n",
       "  </thead>\n",
       "  <tbody>\n",
       "    <tr>\n",
       "      <th>5450</th>\n",
       "      <td>2017-05-31</td>\n",
       "      <td>58196</td>\n",
       "      <td>1001</td>\n",
       "      <td>MA</td>\n",
       "      <td>Springfield</td>\n",
       "      <td>Hampden</td>\n",
       "      <td>Agawam</td>\n",
       "      <td>5450</td>\n",
       "      <td>197100</td>\n",
       "      <td>0.005099</td>\n",
       "      <td>0.011288</td>\n",
       "      <td>0.066558</td>\n",
       "      <td>0.019908</td>\n",
       "      <td>-0.007074</td>\n",
       "      <td>2006-10</td>\n",
       "      <td>2006-Q4</td>\n",
       "      <td>216300</td>\n",
       "      <td>-0.088766</td>\n",
       "      <td>2005-07</td>\n",
       "    </tr>\n",
       "    <tr>\n",
       "      <th>3919</th>\n",
       "      <td>2017-05-31</td>\n",
       "      <td>58197</td>\n",
       "      <td>1002</td>\n",
       "      <td>MA</td>\n",
       "      <td>Springfield</td>\n",
       "      <td>Hampshire</td>\n",
       "      <td>Amherst</td>\n",
       "      <td>3919</td>\n",
       "      <td>318700</td>\n",
       "      <td>0.005363</td>\n",
       "      <td>0.016587</td>\n",
       "      <td>0.048011</td>\n",
       "      <td>0.025937</td>\n",
       "      <td>0.001041</td>\n",
       "      <td>2007-11</td>\n",
       "      <td>2007-Q4</td>\n",
       "      <td>323300</td>\n",
       "      <td>-0.014228</td>\n",
       "      <td>2007-07</td>\n",
       "    </tr>\n",
       "    <tr>\n",
       "      <th>10252</th>\n",
       "      <td>2017-05-31</td>\n",
       "      <td>58200</td>\n",
       "      <td>1005</td>\n",
       "      <td>MA</td>\n",
       "      <td>Worcester</td>\n",
       "      <td>Worcester</td>\n",
       "      <td>Town of Barre</td>\n",
       "      <td>10252</td>\n",
       "      <td>220600</td>\n",
       "      <td>-0.013417</td>\n",
       "      <td>-0.033304</td>\n",
       "      <td>0.063645</td>\n",
       "      <td>0.049449</td>\n",
       "      <td>0.000591</td>\n",
       "      <td>2006-04</td>\n",
       "      <td>2006-Q2</td>\n",
       "      <td>237100</td>\n",
       "      <td>-0.069591</td>\n",
       "      <td>2004-11</td>\n",
       "    </tr>\n",
       "    <tr>\n",
       "      <th>6404</th>\n",
       "      <td>2017-05-31</td>\n",
       "      <td>58201</td>\n",
       "      <td>1007</td>\n",
       "      <td>MA</td>\n",
       "      <td>Springfield</td>\n",
       "      <td>Hampshire</td>\n",
       "      <td>Town of Belchertown</td>\n",
       "      <td>6404</td>\n",
       "      <td>265200</td>\n",
       "      <td>-0.000377</td>\n",
       "      <td>0.001133</td>\n",
       "      <td>0.023148</td>\n",
       "      <td>0.024474</td>\n",
       "      <td>-0.002308</td>\n",
       "      <td>2006-10</td>\n",
       "      <td>2006-Q4</td>\n",
       "      <td>273900</td>\n",
       "      <td>-0.031763</td>\n",
       "      <td>2006-05</td>\n",
       "    </tr>\n",
       "    <tr>\n",
       "      <th>12905</th>\n",
       "      <td>2017-05-31</td>\n",
       "      <td>58202</td>\n",
       "      <td>1008</td>\n",
       "      <td>MA</td>\n",
       "      <td>Springfield</td>\n",
       "      <td>Hampden</td>\n",
       "      <td>Blandford</td>\n",
       "      <td>12905</td>\n",
       "      <td>221800</td>\n",
       "      <td>0.011861</td>\n",
       "      <td>0.031628</td>\n",
       "      <td>0.014639</td>\n",
       "      <td>0.015779</td>\n",
       "      <td>-0.002139</td>\n",
       "      <td>2010-02</td>\n",
       "      <td>2010-Q1</td>\n",
       "      <td>241300</td>\n",
       "      <td>-0.080812</td>\n",
       "      <td>2008-08</td>\n",
       "    </tr>\n",
       "  </tbody>\n",
       "</table>\n",
       "</div>"
      ],
      "text/plain": [
       "             Date  RegionID  RegionName State        Metro     County  \\\n",
       "5450   2017-05-31     58196        1001    MA  Springfield    Hampden   \n",
       "3919   2017-05-31     58197        1002    MA  Springfield  Hampshire   \n",
       "10252  2017-05-31     58200        1005    MA    Worcester  Worcester   \n",
       "6404   2017-05-31     58201        1007    MA  Springfield  Hampshire   \n",
       "12905  2017-05-31     58202        1008    MA  Springfield    Hampden   \n",
       "\n",
       "                      City  SizeRank    Zhvi       MoM       QoQ       YoY  \\\n",
       "5450                Agawam      5450  197100  0.005099  0.011288  0.066558   \n",
       "3919               Amherst      3919  318700  0.005363  0.016587  0.048011   \n",
       "10252        Town of Barre     10252  220600 -0.013417 -0.033304  0.063645   \n",
       "6404   Town of Belchertown      6404  265200 -0.000377  0.001133  0.023148   \n",
       "12905            Blandford     12905  221800  0.011861  0.031628  0.014639   \n",
       "\n",
       "          5Year    10Year PeakMonth PeakQuarter  PeakZHVI  PctFallFromPeak  \\\n",
       "5450   0.019908 -0.007074   2006-10     2006-Q4    216300        -0.088766   \n",
       "3919   0.025937  0.001041   2007-11     2007-Q4    323300        -0.014228   \n",
       "10252  0.049449  0.000591   2006-04     2006-Q2    237100        -0.069591   \n",
       "6404   0.024474 -0.002308   2006-10     2006-Q4    273900        -0.031763   \n",
       "12905  0.015779 -0.002139   2010-02     2010-Q1    241300        -0.080812   \n",
       "\n",
       "      LastTimeAtCurrZHVI  \n",
       "5450             2005-07  \n",
       "3919             2007-07  \n",
       "10252            2004-11  \n",
       "6404             2006-05  \n",
       "12905            2008-08  "
      ]
     },
     "execution_count": 20,
     "metadata": {},
     "output_type": "execute_result"
    }
   ],
   "source": [
    "homes1 = pd.DataFrame.from_csv('data/Zip_Zhvi_Summary_AllHomes.csv', index_col=None)\n",
    "homes1 = homes1.sort_values('RegionName')\n",
    "homes1.head()"
   ]
  },
  {
   "cell_type": "code",
   "execution_count": 21,
   "metadata": {},
   "outputs": [
    {
     "data": {
      "text/html": [
       "<div>\n",
       "<style>\n",
       "    .dataframe thead tr:only-child th {\n",
       "        text-align: right;\n",
       "    }\n",
       "\n",
       "    .dataframe thead th {\n",
       "        text-align: left;\n",
       "    }\n",
       "\n",
       "    .dataframe tbody tr th {\n",
       "        vertical-align: top;\n",
       "    }\n",
       "</style>\n",
       "<table border=\"1\" class=\"dataframe\">\n",
       "  <thead>\n",
       "    <tr style=\"text-align: right;\">\n",
       "      <th></th>\n",
       "      <th>RegionID</th>\n",
       "      <th>RegionName</th>\n",
       "      <th>City</th>\n",
       "      <th>State</th>\n",
       "      <th>Metro</th>\n",
       "      <th>CountyName</th>\n",
       "      <th>SizeRank</th>\n",
       "      <th>1996-04</th>\n",
       "      <th>1996-05</th>\n",
       "      <th>1996-06</th>\n",
       "      <th>...</th>\n",
       "      <th>2016-08</th>\n",
       "      <th>2016-09</th>\n",
       "      <th>2016-10</th>\n",
       "      <th>2016-11</th>\n",
       "      <th>2016-12</th>\n",
       "      <th>2017-01</th>\n",
       "      <th>2017-02</th>\n",
       "      <th>2017-03</th>\n",
       "      <th>2017-04</th>\n",
       "      <th>2017-05</th>\n",
       "    </tr>\n",
       "  </thead>\n",
       "  <tbody>\n",
       "    <tr>\n",
       "      <th>0</th>\n",
       "      <td>61639</td>\n",
       "      <td>10025</td>\n",
       "      <td>New York</td>\n",
       "      <td>NY</td>\n",
       "      <td>New York</td>\n",
       "      <td>New York</td>\n",
       "      <td>1</td>\n",
       "      <td>NaN</td>\n",
       "      <td>NaN</td>\n",
       "      <td>NaN</td>\n",
       "      <td>...</td>\n",
       "      <td>1128500</td>\n",
       "      <td>1133300</td>\n",
       "      <td>1132900</td>\n",
       "      <td>1147300</td>\n",
       "      <td>1149800.0</td>\n",
       "      <td>1132700</td>\n",
       "      <td>1121400</td>\n",
       "      <td>1123000</td>\n",
       "      <td>1143700</td>\n",
       "      <td>1178700</td>\n",
       "    </tr>\n",
       "    <tr>\n",
       "      <th>1</th>\n",
       "      <td>84654</td>\n",
       "      <td>60657</td>\n",
       "      <td>Chicago</td>\n",
       "      <td>IL</td>\n",
       "      <td>Chicago</td>\n",
       "      <td>Cook</td>\n",
       "      <td>2</td>\n",
       "      <td>146700.0</td>\n",
       "      <td>146500.0</td>\n",
       "      <td>146300.0</td>\n",
       "      <td>...</td>\n",
       "      <td>318600</td>\n",
       "      <td>318200</td>\n",
       "      <td>318100</td>\n",
       "      <td>318700</td>\n",
       "      <td>320200.0</td>\n",
       "      <td>321000</td>\n",
       "      <td>322200</td>\n",
       "      <td>323800</td>\n",
       "      <td>325900</td>\n",
       "      <td>327700</td>\n",
       "    </tr>\n",
       "    <tr>\n",
       "      <th>2</th>\n",
       "      <td>84616</td>\n",
       "      <td>60614</td>\n",
       "      <td>Chicago</td>\n",
       "      <td>IL</td>\n",
       "      <td>Chicago</td>\n",
       "      <td>Cook</td>\n",
       "      <td>3</td>\n",
       "      <td>198000.0</td>\n",
       "      <td>195500.0</td>\n",
       "      <td>194200.0</td>\n",
       "      <td>...</td>\n",
       "      <td>400700</td>\n",
       "      <td>401900</td>\n",
       "      <td>406000</td>\n",
       "      <td>414000</td>\n",
       "      <td>417800.0</td>\n",
       "      <td>417700</td>\n",
       "      <td>418700</td>\n",
       "      <td>414100</td>\n",
       "      <td>405400</td>\n",
       "      <td>401900</td>\n",
       "    </tr>\n",
       "    <tr>\n",
       "      <th>3</th>\n",
       "      <td>93144</td>\n",
       "      <td>79936</td>\n",
       "      <td>El Paso</td>\n",
       "      <td>TX</td>\n",
       "      <td>El Paso</td>\n",
       "      <td>El Paso</td>\n",
       "      <td>4</td>\n",
       "      <td>70800.0</td>\n",
       "      <td>71000.0</td>\n",
       "      <td>71000.0</td>\n",
       "      <td>...</td>\n",
       "      <td>113700</td>\n",
       "      <td>113800</td>\n",
       "      <td>113800</td>\n",
       "      <td>114100</td>\n",
       "      <td>114500.0</td>\n",
       "      <td>114900</td>\n",
       "      <td>115000</td>\n",
       "      <td>114700</td>\n",
       "      <td>114700</td>\n",
       "      <td>114800</td>\n",
       "    </tr>\n",
       "    <tr>\n",
       "      <th>4</th>\n",
       "      <td>84640</td>\n",
       "      <td>60640</td>\n",
       "      <td>Chicago</td>\n",
       "      <td>IL</td>\n",
       "      <td>Chicago</td>\n",
       "      <td>Cook</td>\n",
       "      <td>5</td>\n",
       "      <td>102300.0</td>\n",
       "      <td>101300.0</td>\n",
       "      <td>100700.0</td>\n",
       "      <td>...</td>\n",
       "      <td>200000</td>\n",
       "      <td>198800</td>\n",
       "      <td>199200</td>\n",
       "      <td>200100</td>\n",
       "      <td>201500.0</td>\n",
       "      <td>203200</td>\n",
       "      <td>205200</td>\n",
       "      <td>206700</td>\n",
       "      <td>206600</td>\n",
       "      <td>205700</td>\n",
       "    </tr>\n",
       "  </tbody>\n",
       "</table>\n",
       "<p>5 rows × 261 columns</p>\n",
       "</div>"
      ],
      "text/plain": [
       "   RegionID  RegionName      City State     Metro CountyName  SizeRank  \\\n",
       "0     61639       10025  New York    NY  New York   New York         1   \n",
       "1     84654       60657   Chicago    IL   Chicago       Cook         2   \n",
       "2     84616       60614   Chicago    IL   Chicago       Cook         3   \n",
       "3     93144       79936   El Paso    TX   El Paso    El Paso         4   \n",
       "4     84640       60640   Chicago    IL   Chicago       Cook         5   \n",
       "\n",
       "    1996-04   1996-05   1996-06   ...     2016-08  2016-09  2016-10  2016-11  \\\n",
       "0       NaN       NaN       NaN   ...     1128500  1133300  1132900  1147300   \n",
       "1  146700.0  146500.0  146300.0   ...      318600   318200   318100   318700   \n",
       "2  198000.0  195500.0  194200.0   ...      400700   401900   406000   414000   \n",
       "3   70800.0   71000.0   71000.0   ...      113700   113800   113800   114100   \n",
       "4  102300.0  101300.0  100700.0   ...      200000   198800   199200   200100   \n",
       "\n",
       "     2016-12  2017-01  2017-02  2017-03  2017-04  2017-05  \n",
       "0  1149800.0  1132700  1121400  1123000  1143700  1178700  \n",
       "1   320200.0   321000   322200   323800   325900   327700  \n",
       "2   417800.0   417700   418700   414100   405400   401900  \n",
       "3   114500.0   114900   115000   114700   114700   114800  \n",
       "4   201500.0   203200   205200   206700   206600   205700  \n",
       "\n",
       "[5 rows x 261 columns]"
      ]
     },
     "execution_count": 21,
     "metadata": {},
     "output_type": "execute_result"
    }
   ],
   "source": [
    "homes2 = pd.DataFrame.from_csv('data/Zip_Zhvi_AllHomes.csv', index_col=None)\n",
    "homes2.head()"
   ]
  },
  {
   "cell_type": "markdown",
   "metadata": {},
   "source": [
    "### Test 1 - Coastal vs. Non-Coastal States\n",
    "Null Hypothesis: The growth rate of housing prices is the same for Coastal States as for Non-Coastal States: P1 - P2 = 0\n",
    "\n",
    "Alternate Hypothesis: The growth rate of housing prices is not the same for Coastal States as for Non-Coastal States: P1 - P2 =! 0"
   ]
  },
  {
   "cell_type": "code",
   "execution_count": 22,
   "metadata": {},
   "outputs": [
    {
     "data": {
      "text/plain": [
       "<matplotlib.axes._subplots.AxesSubplot at 0x11f5fb950>"
      ]
     },
     "execution_count": 22,
     "metadata": {},
     "output_type": "execute_result"
    },
    {
     "data": {
      "image/png": "[encoded data removed]",
      "text/plain": [
       "<matplotlib.figure.Figure at 0x11e8a8890>"
      ]
     },
     "metadata": {},
     "output_type": "display_data"
    }
   ],
   "source": [
    "# Defining coastal states and viewing as a bar graph\n",
    "h = homes2\n",
    "coastal_states = 'HI,RI,CA,WA,OR,TX,LA,FL,NC,SC,GA,VA,MD,DE,NJ,NY,MS,CT,MA,ME,AK'.split(',')\n",
    "h_coastal = h[h.State.isin(coastal_states)]\n",
    "h_coastal = h_coastal.groupby(h_coastal.State).mean()\n",
    "h_coastal['Percent_Growth'] = (h_coastal['2017-05'] / h_coastal['1996-04'] - 1) * 100 \n",
    "h_coastal = h_coastal.round(2)\n",
    "h_coastal = h_coastal.sort_values('Percent_Growth')\n",
    "h_coastal.Percent_Growth.plot(kind = 'bar', title = \"20-Year Housing Price Growth Rates for Coastal States\")"
   ]
  },
  {
   "cell_type": "code",
   "execution_count": 23,
   "metadata": {},
   "outputs": [
    {
     "data": {
      "text/plain": [
       "<matplotlib.axes._subplots.AxesSubplot at 0x11f5fb110>"
      ]
     },
     "execution_count": 23,
     "metadata": {},
     "output_type": "execute_result"
    },
    {
     "data": {
      "image/png": "[encoded data removed]",
      "text/plain": [
       "<matplotlib.figure.Figure at 0x11e595350>"
      ]
     },
     "metadata": {},
     "output_type": "display_data"
    }
   ],
   "source": [
    "# Defining non-coastal states and viewing as a bar graph\n",
    "h = homes2\n",
    "h_not_coastal = h[~h.State.isin(coastal_states)]\n",
    "h_not_coastal = h_not_coastal.groupby(h_not_coastal.State).mean()\n",
    "h_not_coastal['Percent_Growth'] = (h_not_coastal['2017-05'] / h_not_coastal['1996-04'] - 1) * 100 \n",
    "h_not_coastal = h_not_coastal.round(2)\n",
    "h_not_coastal = h_not_coastal.sort_values('Percent_Growth')\n",
    "h_not_coastal.Percent_Growth.plot(kind = 'bar', title = \"20-Year Housing Price Growth Rates for Non-Coastal States\")"
   ]
  },
  {
   "cell_type": "code",
   "execution_count": 24,
   "metadata": {},
   "outputs": [
    {
     "name": "stderr",
     "output_type": "stream",
     "text": [
      "/anaconda/lib/python2.7/site-packages/ipykernel_launcher.py:3: SettingWithCopyWarning: \n",
      "A value is trying to be set on a copy of a slice from a DataFrame.\n",
      "Try using .loc[row_indexer,col_indexer] = value instead\n",
      "\n",
      "See the caveats in the documentation: http://pandas.pydata.org/pandas-docs/stable/indexing.html#indexing-view-versus-copy\n",
      "  This is separate from the ipykernel package so we can avoid doing imports until\n",
      "/anaconda/lib/python2.7/site-packages/ipykernel_launcher.py:9: SettingWithCopyWarning: \n",
      "A value is trying to be set on a copy of a slice from a DataFrame.\n",
      "Try using .loc[row_indexer,col_indexer] = value instead\n",
      "\n",
      "See the caveats in the documentation: http://pandas.pydata.org/pandas-docs/stable/indexing.html#indexing-view-versus-copy\n",
      "  if __name__ == '__main__':\n"
     ]
    },
    {
     "data": {
      "text/plain": [
       "56.53034078505458"
      ]
     },
     "execution_count": 24,
     "metadata": {},
     "output_type": "execute_result"
    }
   ],
   "source": [
    "# Defining the population for Coastal State Zip Codes\n",
    "h_coastal = h[h.State.isin(coastal_states)]\n",
    "h_coastal['Percent_Growth'] = (h_coastal['2017-05'] / h_coastal['1996-04'] - 1) * 100 \n",
    "coastal_zips = len(h_coastal)\n",
    "coastal_mean = h_coastal['Percent_Growth'].mean()\n",
    "coastal_std = h_coastal['Percent_Growth'].std()\n",
    "\n",
    "h_not_coastal = h[~h.State.isin(coastal_states)]\n",
    "h_not_coastal['Percent_Growth'] = (h_not_coastal['2017-05'] / h_not_coastal['1996-04'] - 1) * 100 \n",
    "not_coastal_zips = len(h_not_coastal)\n",
    "not_coastal_mean = h_not_coastal['Percent_Growth'].mean()\n",
    "not_coastal_std = h_not_coastal['Percent_Growth'].std()\n",
    "\n",
    "mean = coastal_mean - not_coastal_mean\n",
    "mean"
   ]
  },
  {
   "cell_type": "code",
   "execution_count": 25,
   "metadata": {},
   "outputs": [
    {
     "data": {
      "text/plain": [
       "1.0819219055641385"
      ]
     },
     "execution_count": 25,
     "metadata": {},
     "output_type": "execute_result"
    }
   ],
   "source": [
    "# Standard Deviation of the differences in the means\n",
    "std = ((coastal_std**2)/coastal_zips + (not_coastal_std**2)/not_coastal_zips)**(1/2.0)\n",
    "std"
   ]
  },
  {
   "cell_type": "code",
   "execution_count": 26,
   "metadata": {},
   "outputs": [
    {
     "data": {
      "text/plain": [
       "(54.409773850148866, 58.65090771996029)"
      ]
     },
     "execution_count": 26,
     "metadata": {},
     "output_type": "execute_result"
    }
   ],
   "source": [
    "# Z Score for two-tailed test for alpha = .025 is 1.96.  95% confidence interval:\n",
    "mean - 1.96*std, mean + 1.96*std"
   ]
  },
  {
   "cell_type": "markdown",
   "metadata": {},
   "source": [
    "##### Based on the 95% Confidence Interval, there is a very significant difference in the housing growth for coastal states vs non-coastal states.  Coastal states on average saw a 56.5% higher growth in housing prices over the last 20 years than non-coastal states.  If the coastal and non-coastal zip codes were actually the same, the confidence interval would have to include 0, which is does not."
   ]
  },
  {
   "cell_type": "markdown",
   "metadata": {},
   "source": [
    "### Test 2 - West Coast vs. East Coast States\n",
    "Null Hypothesis: The growth rate of housing prices is the same for West Coast States as for East Coast States: P1 - P2 = 0\n",
    "\n",
    "Alternate Hypothesis: The growth rate of housing prices is not the same for West Coast States as for East Coast States: P1 - P2 =! 0"
   ]
  },
  {
   "cell_type": "code",
   "execution_count": 27,
   "metadata": {},
   "outputs": [
    {
     "data": {
      "text/plain": [
       "<matplotlib.axes._subplots.AxesSubplot at 0x11e0aeb90>"
      ]
     },
     "execution_count": 27,
     "metadata": {},
     "output_type": "execute_result"
    },
    {
     "data": {
      "image/png": "[encoded data removed]",
      "text/plain": [
       "<matplotlib.figure.Figure at 0x11ea603d0>"
      ]
     },
     "metadata": {},
     "output_type": "display_data"
    }
   ],
   "source": [
    "# Defining coastal states and viewing as a bar graph\n",
    "h = homes2\n",
    "pacific_states = 'HI,CA,WA,OR,AK'.split(',')\n",
    "h_pacific = h[h.State.isin(pacific_states)]\n",
    "h_pacific = h_pacific.groupby(h_pacific.State).mean()\n",
    "h_pacific['Percent_Growth'] = (h_pacific['2017-05'] / h_pacific['1996-04'] - 1) * 100 \n",
    "h_pacific = h_pacific.round(2)\n",
    "h_pacific = h_pacific.sort_values('Percent_Growth')\n",
    "h_pacific.Percent_Growth.plot(kind = 'bar', title = \"20-Year Housing Price Growth Rates for West Coast States\")"
   ]
  },
  {
   "cell_type": "code",
   "execution_count": 28,
   "metadata": {},
   "outputs": [
    {
     "data": {
      "text/plain": [
       "<matplotlib.axes._subplots.AxesSubplot at 0x11dfb3710>"
      ]
     },
     "execution_count": 28,
     "metadata": {},
     "output_type": "execute_result"
    },
    {
     "data": {
      "image/png": "[encoded data removed]",
      "text/plain": [
       "<matplotlib.figure.Figure at 0x11f633b50>"
      ]
     },
     "metadata": {},
     "output_type": "display_data"
    }
   ],
   "source": [
    "# Defining coastal states and viewing as a bar graph\n",
    "h = homes2\n",
    "atlantic_states = 'RI,FL,NC,SC,GA,VA,MD,DE,NJ,NY,CT,MA,ME'.split(',')\n",
    "h_atlantic = h[h.State.isin(atlantic_states)]\n",
    "h_atlantic = h_atlantic.groupby(h_atlantic.State).mean()\n",
    "h_atlantic['Percent_Growth'] = (h_atlantic['2017-05'] / h_atlantic['1996-04'] - 1) * 100 \n",
    "h_atlantic = h_atlantic.round(2)\n",
    "h_atlantic = h_atlantic.sort_values('Percent_Growth')\n",
    "h_atlantic.Percent_Growth.plot(kind = 'bar', title = \"20-Year Housing Price Growth Rates for East Coast States\")"
   ]
  },
  {
   "cell_type": "code",
   "execution_count": 29,
   "metadata": {},
   "outputs": [
    {
     "name": "stderr",
     "output_type": "stream",
     "text": [
      "/anaconda/lib/python2.7/site-packages/ipykernel_launcher.py:3: SettingWithCopyWarning: \n",
      "A value is trying to be set on a copy of a slice from a DataFrame.\n",
      "Try using .loc[row_indexer,col_indexer] = value instead\n",
      "\n",
      "See the caveats in the documentation: http://pandas.pydata.org/pandas-docs/stable/indexing.html#indexing-view-versus-copy\n",
      "  This is separate from the ipykernel package so we can avoid doing imports until\n",
      "/anaconda/lib/python2.7/site-packages/ipykernel_launcher.py:9: SettingWithCopyWarning: \n",
      "A value is trying to be set on a copy of a slice from a DataFrame.\n",
      "Try using .loc[row_indexer,col_indexer] = value instead\n",
      "\n",
      "See the caveats in the documentation: http://pandas.pydata.org/pandas-docs/stable/indexing.html#indexing-view-versus-copy\n",
      "  if __name__ == '__main__':\n"
     ]
    },
    {
     "data": {
      "text/plain": [
       "82.51399202295515"
      ]
     },
     "execution_count": 29,
     "metadata": {},
     "output_type": "execute_result"
    }
   ],
   "source": [
    "# Finding the mean and standard deviation for growth in the the Pacific and Atlantic zip codes\n",
    "h_pacific = h[h.State.isin(pacific_states)]\n",
    "h_pacific['Percent_Growth'] = (h_pacific['2017-05'] / h_pacific['1996-04'] - 1) * 100 \n",
    "pacific_zips = len(h_pacific)\n",
    "pacific_mean = h_pacific['Percent_Growth'].mean()\n",
    "pacific_std = h_pacific['Percent_Growth'].std()\n",
    "\n",
    "h_atlantic = h[h.State.isin(atlantic_states)]\n",
    "h_atlantic['Percent_Growth'] = (h_atlantic['2017-05'] / h_atlantic['1996-04'] - 1) * 100 \n",
    "atlantic_zips = len(h_not_coastal)\n",
    "atlantic_mean = h_atlantic['Percent_Growth'].mean()\n",
    "atlantic_std = h_atlantic['Percent_Growth'].std()\n",
    "\n",
    "mean = pacific_mean - atlantic_mean\n",
    "mean"
   ]
  },
  {
   "cell_type": "code",
   "execution_count": 30,
   "metadata": {},
   "outputs": [
    {
     "data": {
      "text/plain": [
       "118.12550448589475"
      ]
     },
     "execution_count": 30,
     "metadata": {},
     "output_type": "execute_result"
    }
   ],
   "source": [
    "atlantic_mean"
   ]
  },
  {
   "cell_type": "code",
   "execution_count": 31,
   "metadata": {},
   "outputs": [
    {
     "data": {
      "text/plain": [
       "83.10756888889834"
      ]
     },
     "execution_count": 31,
     "metadata": {},
     "output_type": "execute_result"
    }
   ],
   "source": [
    "not_coastal_mean"
   ]
  },
  {
   "cell_type": "code",
   "execution_count": 32,
   "metadata": {},
   "outputs": [
    {
     "ename": "ValueError",
     "evalue": "range parameter must be finite.",
     "output_type": "error",
     "traceback": [
      "\u001b[0;31m---------------------------------------------------------------------------\u001b[0m",
      "\u001b[0;31mValueError\u001b[0m                                Traceback (most recent call last)",
      "\u001b[0;32m<ipython-input-32-988b2013c754>\u001b[0m in \u001b[0;36m<module>\u001b[0;34m()\u001b[0m\n\u001b[1;32m      4\u001b[0m \u001b[0mbins\u001b[0m \u001b[0;34m=\u001b[0m \u001b[0mnp\u001b[0m\u001b[0;34m.\u001b[0m\u001b[0mlinspace\u001b[0m\u001b[0;34m(\u001b[0m\u001b[0;36m0\u001b[0m\u001b[0;34m,\u001b[0m \u001b[0;36m700\u001b[0m\u001b[0;34m,\u001b[0m \u001b[0;36m100\u001b[0m\u001b[0;34m)\u001b[0m\u001b[0;34m\u001b[0m\u001b[0m\n\u001b[1;32m      5\u001b[0m \u001b[0;34m\u001b[0m\u001b[0m\n\u001b[0;32m----> 6\u001b[0;31m \u001b[0mplt\u001b[0m\u001b[0;34m.\u001b[0m\u001b[0mhist\u001b[0m\u001b[0;34m(\u001b[0m\u001b[0ma\u001b[0m\u001b[0;34m,\u001b[0m \u001b[0mbins\u001b[0m\u001b[0;34m,\u001b[0m \u001b[0malpha\u001b[0m\u001b[0;34m=\u001b[0m\u001b[0;36m0.5\u001b[0m\u001b[0;34m,\u001b[0m \u001b[0mlabel\u001b[0m\u001b[0;34m=\u001b[0m\u001b[0;34m'East Coast'\u001b[0m\u001b[0;34m)\u001b[0m\u001b[0;34m\u001b[0m\u001b[0m\n\u001b[0m\u001b[1;32m      7\u001b[0m \u001b[0mplt\u001b[0m\u001b[0;34m.\u001b[0m\u001b[0mhist\u001b[0m\u001b[0;34m(\u001b[0m\u001b[0mp\u001b[0m\u001b[0;34m,\u001b[0m \u001b[0mbins\u001b[0m\u001b[0;34m,\u001b[0m \u001b[0malpha\u001b[0m\u001b[0;34m=\u001b[0m\u001b[0;36m0.5\u001b[0m\u001b[0;34m,\u001b[0m \u001b[0mlabel\u001b[0m\u001b[0;34m=\u001b[0m\u001b[0;34m'West Coast'\u001b[0m\u001b[0;34m)\u001b[0m\u001b[0;34m\u001b[0m\u001b[0m\n\u001b[1;32m      8\u001b[0m \u001b[0mplt\u001b[0m\u001b[0;34m.\u001b[0m\u001b[0mlegend\u001b[0m\u001b[0;34m(\u001b[0m\u001b[0mloc\u001b[0m\u001b[0;34m=\u001b[0m\u001b[0;34m'upper right'\u001b[0m\u001b[0;34m)\u001b[0m\u001b[0;34m\u001b[0m\u001b[0m\n",
      "\u001b[0;32m/anaconda/lib/python2.7/site-packages/matplotlib/pyplot.pyc\u001b[0m in \u001b[0;36mhist\u001b[0;34m(x, bins, range, normed, weights, cumulative, bottom, histtype, align, orientation, rwidth, log, color, label, stacked, hold, data, **kwargs)\u001b[0m\n\u001b[1;32m   3079\u001b[0m                       \u001b[0mhisttype\u001b[0m\u001b[0;34m=\u001b[0m\u001b[0mhisttype\u001b[0m\u001b[0;34m,\u001b[0m \u001b[0malign\u001b[0m\u001b[0;34m=\u001b[0m\u001b[0malign\u001b[0m\u001b[0;34m,\u001b[0m \u001b[0morientation\u001b[0m\u001b[0;34m=\u001b[0m\u001b[0morientation\u001b[0m\u001b[0;34m,\u001b[0m\u001b[0;34m\u001b[0m\u001b[0m\n\u001b[1;32m   3080\u001b[0m                       \u001b[0mrwidth\u001b[0m\u001b[0;34m=\u001b[0m\u001b[0mrwidth\u001b[0m\u001b[0;34m,\u001b[0m \u001b[0mlog\u001b[0m\u001b[0;34m=\u001b[0m\u001b[0mlog\u001b[0m\u001b[0;34m,\u001b[0m \u001b[0mcolor\u001b[0m\u001b[0;34m=\u001b[0m\u001b[0mcolor\u001b[0m\u001b[0;34m,\u001b[0m \u001b[0mlabel\u001b[0m\u001b[0;34m=\u001b[0m\u001b[0mlabel\u001b[0m\u001b[0;34m,\u001b[0m\u001b[0;34m\u001b[0m\u001b[0m\n\u001b[0;32m-> 3081\u001b[0;31m                       stacked=stacked, data=data, **kwargs)\n\u001b[0m\u001b[1;32m   3082\u001b[0m     \u001b[0;32mfinally\u001b[0m\u001b[0;34m:\u001b[0m\u001b[0;34m\u001b[0m\u001b[0m\n\u001b[1;32m   3083\u001b[0m         \u001b[0max\u001b[0m\u001b[0;34m.\u001b[0m\u001b[0m_hold\u001b[0m \u001b[0;34m=\u001b[0m \u001b[0mwashold\u001b[0m\u001b[0;34m\u001b[0m\u001b[0m\n",
      "\u001b[0;32m/anaconda/lib/python2.7/site-packages/matplotlib/__init__.pyc\u001b[0m in \u001b[0;36minner\u001b[0;34m(ax, *args, **kwargs)\u001b[0m\n\u001b[1;32m   1896\u001b[0m                     warnings.warn(msg % (label_namer, func.__name__),\n\u001b[1;32m   1897\u001b[0m                                   RuntimeWarning, stacklevel=2)\n\u001b[0;32m-> 1898\u001b[0;31m             \u001b[0;32mreturn\u001b[0m \u001b[0mfunc\u001b[0m\u001b[0;34m(\u001b[0m\u001b[0max\u001b[0m\u001b[0;34m,\u001b[0m \u001b[0;34m*\u001b[0m\u001b[0margs\u001b[0m\u001b[0;34m,\u001b[0m \u001b[0;34m**\u001b[0m\u001b[0mkwargs\u001b[0m\u001b[0;34m)\u001b[0m\u001b[0;34m\u001b[0m\u001b[0m\n\u001b[0m\u001b[1;32m   1899\u001b[0m         \u001b[0mpre_doc\u001b[0m \u001b[0;34m=\u001b[0m \u001b[0minner\u001b[0m\u001b[0;34m.\u001b[0m\u001b[0m__doc__\u001b[0m\u001b[0;34m\u001b[0m\u001b[0m\n\u001b[1;32m   1900\u001b[0m         \u001b[0;32mif\u001b[0m \u001b[0mpre_doc\u001b[0m \u001b[0;32mis\u001b[0m \u001b[0mNone\u001b[0m\u001b[0;34m:\u001b[0m\u001b[0;34m\u001b[0m\u001b[0m\n",
      "\u001b[0;32m/anaconda/lib/python2.7/site-packages/matplotlib/axes/_axes.pyc\u001b[0m in \u001b[0;36mhist\u001b[0;34m(***failed resolving arguments***)\u001b[0m\n\u001b[1;32m   6193\u001b[0m             \u001b[0;31m# this will automatically overwrite bins,\u001b[0m\u001b[0;34m\u001b[0m\u001b[0;34m\u001b[0m\u001b[0m\n\u001b[1;32m   6194\u001b[0m             \u001b[0;31m# so that each histogram uses the same bins\u001b[0m\u001b[0;34m\u001b[0m\u001b[0;34m\u001b[0m\u001b[0m\n\u001b[0;32m-> 6195\u001b[0;31m             \u001b[0mm\u001b[0m\u001b[0;34m,\u001b[0m \u001b[0mbins\u001b[0m \u001b[0;34m=\u001b[0m \u001b[0mnp\u001b[0m\u001b[0;34m.\u001b[0m\u001b[0mhistogram\u001b[0m\u001b[0;34m(\u001b[0m\u001b[0mx\u001b[0m\u001b[0;34m[\u001b[0m\u001b[0mi\u001b[0m\u001b[0;34m]\u001b[0m\u001b[0;34m,\u001b[0m \u001b[0mbins\u001b[0m\u001b[0;34m,\u001b[0m \u001b[0mweights\u001b[0m\u001b[0;34m=\u001b[0m\u001b[0mw\u001b[0m\u001b[0;34m[\u001b[0m\u001b[0mi\u001b[0m\u001b[0;34m]\u001b[0m\u001b[0;34m,\u001b[0m \u001b[0;34m**\u001b[0m\u001b[0mhist_kwargs\u001b[0m\u001b[0;34m)\u001b[0m\u001b[0;34m\u001b[0m\u001b[0m\n\u001b[0m\u001b[1;32m   6196\u001b[0m             \u001b[0mm\u001b[0m \u001b[0;34m=\u001b[0m \u001b[0mm\u001b[0m\u001b[0;34m.\u001b[0m\u001b[0mastype\u001b[0m\u001b[0;34m(\u001b[0m\u001b[0mfloat\u001b[0m\u001b[0;34m)\u001b[0m  \u001b[0;31m# causes problems later if it's an int\u001b[0m\u001b[0;34m\u001b[0m\u001b[0m\n\u001b[1;32m   6197\u001b[0m             \u001b[0;32mif\u001b[0m \u001b[0mmlast\u001b[0m \u001b[0;32mis\u001b[0m \u001b[0mNone\u001b[0m\u001b[0;34m:\u001b[0m\u001b[0;34m\u001b[0m\u001b[0m\n",
      "\u001b[0;32m/anaconda/lib/python2.7/site-packages/numpy/lib/function_base.pyc\u001b[0m in \u001b[0;36mhistogram\u001b[0;34m(a, bins, range, normed, weights, density)\u001b[0m\n\u001b[1;32m    667\u001b[0m     \u001b[0;32mif\u001b[0m \u001b[0;32mnot\u001b[0m \u001b[0mnp\u001b[0m\u001b[0;34m.\u001b[0m\u001b[0mall\u001b[0m\u001b[0;34m(\u001b[0m\u001b[0mnp\u001b[0m\u001b[0;34m.\u001b[0m\u001b[0misfinite\u001b[0m\u001b[0;34m(\u001b[0m\u001b[0;34m[\u001b[0m\u001b[0mmn\u001b[0m\u001b[0;34m,\u001b[0m \u001b[0mmx\u001b[0m\u001b[0;34m]\u001b[0m\u001b[0;34m)\u001b[0m\u001b[0;34m)\u001b[0m\u001b[0;34m:\u001b[0m\u001b[0;34m\u001b[0m\u001b[0m\n\u001b[1;32m    668\u001b[0m         raise ValueError(\n\u001b[0;32m--> 669\u001b[0;31m             'range parameter must be finite.')\n\u001b[0m\u001b[1;32m    670\u001b[0m     \u001b[0;32mif\u001b[0m \u001b[0mmn\u001b[0m \u001b[0;34m==\u001b[0m \u001b[0mmx\u001b[0m\u001b[0;34m:\u001b[0m\u001b[0;34m\u001b[0m\u001b[0m\n\u001b[1;32m    671\u001b[0m         \u001b[0mmn\u001b[0m \u001b[0;34m-=\u001b[0m \u001b[0;36m0.5\u001b[0m\u001b[0;34m\u001b[0m\u001b[0m\n",
      "\u001b[0;31mValueError\u001b[0m: range parameter must be finite."
     ]
    },
    {
     "data": {
      "image/png": "[encoded data removed]",
      "text/plain": [
       "<matplotlib.figure.Figure at 0x11e5e61d0>"
      ]
     },
     "metadata": {},
     "output_type": "display_data"
    }
   ],
   "source": [
    "a = h_atlantic['Percent_Growth']\n",
    "p = h_pacific['Percent_Growth']\n",
    "\n",
    "bins = np.linspace(0, 700, 100)\n",
    "\n",
    "plt.hist(a, bins, alpha=0.5, label='East Coast')\n",
    "plt.hist(p, bins, alpha=0.5, label='West Coast')\n",
    "plt.legend(loc='upper right')\n",
    "plt.show()"
   ]
  },
  {
   "cell_type": "code",
   "execution_count": null,
   "metadata": {
    "collapsed": true
   },
   "outputs": [],
   "source": []
  },
  {
   "cell_type": "code",
   "execution_count": null,
   "metadata": {},
   "outputs": [],
   "source": [
    "# Standard Deviation of the differences in the means\n",
    "std = ((pacific_std**2)/pacific_zips + (atlantic_std**2)/atlantic_zips)**(1/2.0)\n",
    "std"
   ]
  },
  {
   "cell_type": "code",
   "execution_count": null,
   "metadata": {},
   "outputs": [],
   "source": [
    "# Z Score for two-tailed test for alpha = .025 is 1.96.  95% confidence interval:\n",
    "mean - 1.96*std, mean + 1.96*std"
   ]
  },
  {
   "cell_type": "markdown",
   "metadata": {},
   "source": [
    "##### Based on the 95% Confidence Interval, there is a significant difference in the housing growth for West Coast states vs East Coast states.  West Coast states on average saw a 82.5% higher growth in housing prices over the last 20 years than East Coast states. "
   ]
  },
  {
   "cell_type": "markdown",
   "metadata": {},
   "source": [
    "### Test 3 - High Household Income vs Low Household Income\n",
    "Null Hypothesis: The growth rate of housing prices is the same for zip codes in the highest quartile of Household Income (HHI) as for the lowest quartile of HHI: P1 - P2 = 0\n",
    "Alternate Hypothesis: The growth rate of housing prices is not the same for zip codes in the highest quartile and lowest quartile of HHI: P1 - P2 =! 0"
   ]
  },
  {
   "cell_type": "code",
   "execution_count": null,
   "metadata": {},
   "outputs": [],
   "source": [
    "hhi = pd.DataFrame.from_csv('data/Income_by_zip.csv', index_col=None)\n",
    "hhi.head()"
   ]
  },
  {
   "cell_type": "code",
   "execution_count": null,
   "metadata": {},
   "outputs": [],
   "source": [
    "hhi.columns = ('RegionName', 'MedianIncome', 'MeanIncome', 'Pop')\n",
    "hhi.head()"
   ]
  },
  {
   "cell_type": "code",
   "execution_count": null,
   "metadata": {},
   "outputs": [],
   "source": [
    "#attempting to convert MeanIncome to numeric values\n",
    "hhi['MeanIncome'].astype(int)\n",
    "hhi.head()\n",
    "\n",
    "#hhi['MeanIncome'].mean()"
   ]
  },
  {
   "cell_type": "code",
   "execution_count": null,
   "metadata": {},
   "outputs": [],
   "source": [
    "df = hhi.join(h, on='RegionName', how='left', lsuffix= 'str', rsuffix= 'str', sort=False)\n",
    "df.head()"
   ]
  },
  {
   "cell_type": "code",
   "execution_count": null,
   "metadata": {
    "collapsed": true
   },
   "outputs": [],
   "source": [
    "df['income_high'] = df['MeanIncome'] > 100000\n",
    "df['income_med'] = (df['MeanIncome'] <= 100000) & (df['MeanIncome'] > 50000)\n",
    "df['income_low'] = df['MeanIncome'] <= 50000"
   ]
  },
  {
   "cell_type": "code",
   "execution_count": null,
   "metadata": {
    "collapsed": true
   },
   "outputs": [],
   "source": []
  },
  {
   "cell_type": "markdown",
   "metadata": {},
   "source": [
    "### Test 4 - High Volatility and High Growth\n",
    "\n",
    "Null Hypothesis: The growth rate of housing prices is the same for zip codes that saw bigger than average declines during the late 2000's housing crisis (bigcrash) as for those that saw smaller than average declines (smallcrash): P1 - P2 = 0\n",
    "Alternate Hypothesis: The growth rate of housing prices is not the same for bigcrash and smallcrash zip codes: P1 - P2 =! 0"
   ]
  },
  {
   "cell_type": "code",
   "execution_count": null,
   "metadata": {},
   "outputs": [],
   "source": [
    "h = homes2\n",
    "h['Percent_Dip'] = (h['2012-02'] / h['2006-07'] - 1) * 100 \n",
    "h = h.sort_values('Percent_Dip')\n",
    "h = h.round(2)\n",
    "h.head()"
   ]
  },
  {
   "cell_type": "code",
   "execution_count": null,
   "metadata": {},
   "outputs": [],
   "source": [
    "median_dip = h['Percent_Dip'].median()\n",
    "median_dip"
   ]
  },
  {
   "cell_type": "code",
   "execution_count": null,
   "metadata": {},
   "outputs": [],
   "source": [
    "h['Percent_Dip'].plot(kind = 'hist', bins = 10)\n",
    "plt.show()"
   ]
  },
  {
   "cell_type": "code",
   "execution_count": null,
   "metadata": {
    "collapsed": true
   },
   "outputs": [],
   "source": []
  },
  {
   "cell_type": "code",
   "execution_count": null,
   "metadata": {},
   "outputs": [],
   "source": [
    "# Defining the population for the Zip Codes that saw the biggest crashes vs smallest crashes\n",
    "h_bigcrash = h[h.Percent_Dip < median_dip]\n",
    "h_bigcrash['Percent_Growth'] = (h_bigcrash['2017-05'] / h_bigcrash['1996-04'] - 1) * 100 \n",
    "bigcrash_zips = len(h_bigcrash)\n",
    "bigcrash_mean = h_bigcrash['Percent_Growth'].mean()\n",
    "bigcrash_std = h_bigcrash['Percent_Growth'].std()\n",
    "\n",
    "h_smallcrash = h[h.Percent_Dip > median_dip]\n",
    "h_smallcrash['Percent_Growth'] = (h_smallcrash['2017-05'] / h_smallcrash['1996-04'] - 1) * 100 \n",
    "smallcrash_zips = len(h_smallcrash)\n",
    "smallcrash_mean = h_smallcrash['Percent_Growth'].mean()\n",
    "smallcrash_std = h_smallcrash['Percent_Growth'].std()\n",
    "\n",
    "mean = bigcrash_mean - smallcrash_mean\n",
    "mean"
   ]
  },
  {
   "cell_type": "code",
   "execution_count": null,
   "metadata": {},
   "outputs": [],
   "source": [
    "# Standard Deviation of the differences in the means\n",
    "std = ((bigcrash_std**2)/bigcrash_zips + (smallcrash_std**2)/smallcrash_zips)**(1/2.0)\n",
    "std"
   ]
  },
  {
   "cell_type": "code",
   "execution_count": null,
   "metadata": {},
   "outputs": [],
   "source": [
    "# Z Score for two-tailed test for alpha = .025 is 1.96.  95% confidence interval:\n",
    "mean - 1.96*std, mean + 1.96*std\n"
   ]
  },
  {
   "cell_type": "markdown",
   "metadata": {},
   "source": [
    "##### Based on the 95% Confidence Interval, there is a significant difference betweeen the zip codes that had a big crash vs small crash in terms of overall growth over the last 20 years.  The zip codes with a big crash saw, on average, 21.7% higher growth than those with a small crash."
   ]
  },
  {
   "cell_type": "code",
   "execution_count": null,
   "metadata": {
    "collapsed": true
   },
   "outputs": [],
   "source": []
  }
 ],
 "metadata": {
  "kernelspec": {
   "display_name": "Python 2",
   "language": "python",
   "name": "python2"
  },
  "language_info": {
   "codemirror_mode": {
    "name": "ipython",
    "version": 2
   },
   "file_extension": ".py",
   "mimetype": "text/x-python",
   "name": "python",
   "nbconvert_exporter": "python",
   "pygments_lexer": "ipython2",
   "version": "2.7.13"
  }
 },
 "nbformat": 4,
 "nbformat_minor": 2
}
