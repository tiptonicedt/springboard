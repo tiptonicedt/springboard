{
 "cells": [
  {
   "cell_type": "code",
   "execution_count": 3,
   "metadata": {
    "collapsed": true
   },
   "outputs": [],
   "source": [
    "%matplotlib inline\n",
    "import pandas as pd"
   ]
  },
  {
   "cell_type": "code",
   "execution_count": 4,
   "metadata": {
    "collapsed": true
   },
   "outputs": [],
   "source": [
    "import numpy as np"
   ]
  },
  {
   "cell_type": "code",
   "execution_count": 8,
   "metadata": {},
   "outputs": [
    {
     "data": {
      "text/html": [
       "<style>body {\n",
       "    margin: 0;\n",
       "    font-family: Helvetica;\n",
       "}\n",
       "table.dataframe {\n",
       "    border-collapse: collapse;\n",
       "    border: none;\n",
       "}\n",
       "table.dataframe tr {\n",
       "    border: none;\n",
       "}\n",
       "table.dataframe td, table.dataframe th {\n",
       "    margin: 0;\n",
       "    border: 1px solid white;\n",
       "    padding-left: 0.25em;\n",
       "    padding-right: 0.25em;\n",
       "}\n",
       "table.dataframe th:not(:empty) {\n",
       "    background-color: #fec;\n",
       "    text-align: left;\n",
       "    font-weight: normal;\n",
       "}\n",
       "table.dataframe tr:nth-child(2) th:empty {\n",
       "    border-left: none;\n",
       "    border-right: 1px dashed #888;\n",
       "}\n",
       "table.dataframe td {\n",
       "    border: 2px solid #ccf;\n",
       "    background-color: #f4f4ff;\n",
       "}\n",
       "h3 {\n",
       "    color: white;\n",
       "    background-color: black;\n",
       "    padding: 0.5em;\n",
       "}\n",
       "</style>"
      ],
      "text/plain": [
       "<IPython.core.display.HTML object>"
      ]
     },
     "execution_count": 8,
     "metadata": {},
     "output_type": "execute_result"
    }
   ],
   "source": [
    "from IPython.core.display import HTML\n",
    "css = open('style-table.css').read() + open('style-notebook.css').read()\n",
    "HTML('<style>{}</style>'.format(css))"
   ]
  },
  {
   "cell_type": "code",
   "execution_count": 7,
   "metadata": {},
   "outputs": [
    {
     "data": {
      "text/html": [
       "<div>\n",
       "<style>\n",
       "    .dataframe thead tr:only-child th {\n",
       "        text-align: right;\n",
       "    }\n",
       "\n",
       "    .dataframe thead th {\n",
       "        text-align: left;\n",
       "    }\n",
       "\n",
       "    .dataframe tbody tr th {\n",
       "        vertical-align: top;\n",
       "    }\n",
       "</style>\n",
       "<table border=\"1\" class=\"dataframe\">\n",
       "  <thead>\n",
       "    <tr style=\"text-align: right;\">\n",
       "      <th></th>\n",
       "      <th>RegionID</th>\n",
       "      <th>RegionName</th>\n",
       "      <th>City</th>\n",
       "      <th>State</th>\n",
       "      <th>Metro</th>\n",
       "      <th>CountyName</th>\n",
       "      <th>SizeRank</th>\n",
       "      <th>1996-04</th>\n",
       "      <th>1996-05</th>\n",
       "      <th>1996-06</th>\n",
       "      <th>...</th>\n",
       "      <th>2016-08</th>\n",
       "      <th>2016-09</th>\n",
       "      <th>2016-10</th>\n",
       "      <th>2016-11</th>\n",
       "      <th>2016-12</th>\n",
       "      <th>2017-01</th>\n",
       "      <th>2017-02</th>\n",
       "      <th>2017-03</th>\n",
       "      <th>2017-04</th>\n",
       "      <th>2017-05</th>\n",
       "    </tr>\n",
       "  </thead>\n",
       "  <tbody>\n",
       "    <tr>\n",
       "      <th>0</th>\n",
       "      <td>61639</td>\n",
       "      <td>10025</td>\n",
       "      <td>New York</td>\n",
       "      <td>NY</td>\n",
       "      <td>New York</td>\n",
       "      <td>New York</td>\n",
       "      <td>1</td>\n",
       "      <td>NaN</td>\n",
       "      <td>NaN</td>\n",
       "      <td>NaN</td>\n",
       "      <td>...</td>\n",
       "      <td>1128500</td>\n",
       "      <td>1133300</td>\n",
       "      <td>1132900</td>\n",
       "      <td>1147300</td>\n",
       "      <td>1149800.0</td>\n",
       "      <td>1132700</td>\n",
       "      <td>1121400</td>\n",
       "      <td>1123000</td>\n",
       "      <td>1143700</td>\n",
       "      <td>1178700</td>\n",
       "    </tr>\n",
       "    <tr>\n",
       "      <th>1</th>\n",
       "      <td>84654</td>\n",
       "      <td>60657</td>\n",
       "      <td>Chicago</td>\n",
       "      <td>IL</td>\n",
       "      <td>Chicago</td>\n",
       "      <td>Cook</td>\n",
       "      <td>2</td>\n",
       "      <td>146700.0</td>\n",
       "      <td>146500.0</td>\n",
       "      <td>146300.0</td>\n",
       "      <td>...</td>\n",
       "      <td>318600</td>\n",
       "      <td>318200</td>\n",
       "      <td>318100</td>\n",
       "      <td>318700</td>\n",
       "      <td>320200.0</td>\n",
       "      <td>321000</td>\n",
       "      <td>322200</td>\n",
       "      <td>323800</td>\n",
       "      <td>325900</td>\n",
       "      <td>327700</td>\n",
       "    </tr>\n",
       "    <tr>\n",
       "      <th>2</th>\n",
       "      <td>84616</td>\n",
       "      <td>60614</td>\n",
       "      <td>Chicago</td>\n",
       "      <td>IL</td>\n",
       "      <td>Chicago</td>\n",
       "      <td>Cook</td>\n",
       "      <td>3</td>\n",
       "      <td>198000.0</td>\n",
       "      <td>195500.0</td>\n",
       "      <td>194200.0</td>\n",
       "      <td>...</td>\n",
       "      <td>400700</td>\n",
       "      <td>401900</td>\n",
       "      <td>406000</td>\n",
       "      <td>414000</td>\n",
       "      <td>417800.0</td>\n",
       "      <td>417700</td>\n",
       "      <td>418700</td>\n",
       "      <td>414100</td>\n",
       "      <td>405400</td>\n",
       "      <td>401900</td>\n",
       "    </tr>\n",
       "    <tr>\n",
       "      <th>3</th>\n",
       "      <td>93144</td>\n",
       "      <td>79936</td>\n",
       "      <td>El Paso</td>\n",
       "      <td>TX</td>\n",
       "      <td>El Paso</td>\n",
       "      <td>El Paso</td>\n",
       "      <td>4</td>\n",
       "      <td>70800.0</td>\n",
       "      <td>71000.0</td>\n",
       "      <td>71000.0</td>\n",
       "      <td>...</td>\n",
       "      <td>113700</td>\n",
       "      <td>113800</td>\n",
       "      <td>113800</td>\n",
       "      <td>114100</td>\n",
       "      <td>114500.0</td>\n",
       "      <td>114900</td>\n",
       "      <td>115000</td>\n",
       "      <td>114700</td>\n",
       "      <td>114700</td>\n",
       "      <td>114800</td>\n",
       "    </tr>\n",
       "    <tr>\n",
       "      <th>4</th>\n",
       "      <td>84640</td>\n",
       "      <td>60640</td>\n",
       "      <td>Chicago</td>\n",
       "      <td>IL</td>\n",
       "      <td>Chicago</td>\n",
       "      <td>Cook</td>\n",
       "      <td>5</td>\n",
       "      <td>102300.0</td>\n",
       "      <td>101300.0</td>\n",
       "      <td>100700.0</td>\n",
       "      <td>...</td>\n",
       "      <td>200000</td>\n",
       "      <td>198800</td>\n",
       "      <td>199200</td>\n",
       "      <td>200100</td>\n",
       "      <td>201500.0</td>\n",
       "      <td>203200</td>\n",
       "      <td>205200</td>\n",
       "      <td>206700</td>\n",
       "      <td>206600</td>\n",
       "      <td>205700</td>\n",
       "    </tr>\n",
       "  </tbody>\n",
       "</table>\n",
       "<p>5 rows × 261 columns</p>\n",
       "</div>"
      ],
      "text/plain": [
       "   RegionID  RegionName      City State     Metro CountyName  SizeRank  \\\n",
       "0     61639       10025  New York    NY  New York   New York         1   \n",
       "1     84654       60657   Chicago    IL   Chicago       Cook         2   \n",
       "2     84616       60614   Chicago    IL   Chicago       Cook         3   \n",
       "3     93144       79936   El Paso    TX   El Paso    El Paso         4   \n",
       "4     84640       60640   Chicago    IL   Chicago       Cook         5   \n",
       "\n",
       "    1996-04   1996-05   1996-06   ...     2016-08  2016-09  2016-10  2016-11  \\\n",
       "0       NaN       NaN       NaN   ...     1128500  1133300  1132900  1147300   \n",
       "1  146700.0  146500.0  146300.0   ...      318600   318200   318100   318700   \n",
       "2  198000.0  195500.0  194200.0   ...      400700   401900   406000   414000   \n",
       "3   70800.0   71000.0   71000.0   ...      113700   113800   113800   114100   \n",
       "4  102300.0  101300.0  100700.0   ...      200000   198800   199200   200100   \n",
       "\n",
       "     2016-12  2017-01  2017-02  2017-03  2017-04  2017-05  \n",
       "0  1149800.0  1132700  1121400  1123000  1143700  1178700  \n",
       "1   320200.0   321000   322200   323800   325900   327700  \n",
       "2   417800.0   417700   418700   414100   405400   401900  \n",
       "3   114500.0   114900   115000   114700   114700   114800  \n",
       "4   201500.0   203200   205200   206700   206600   205700  \n",
       "\n",
       "[5 rows x 261 columns]"
      ]
     },
     "execution_count": 7,
     "metadata": {},
     "output_type": "execute_result"
    }
   ],
   "source": [
    "homes = pd.DataFrame.from_csv('Data_Files/Zip_Zhvi_AllHomes.csv', index_col=None)\n",
    "homes.head()"
   ]
  },
  {
   "cell_type": "code",
   "execution_count": 44,
   "metadata": {},
   "outputs": [
    {
     "data": {
      "text/html": [
       "<div>\n",
       "<style>\n",
       "    .dataframe thead tr:only-child th {\n",
       "        text-align: right;\n",
       "    }\n",
       "\n",
       "    .dataframe thead th {\n",
       "        text-align: left;\n",
       "    }\n",
       "\n",
       "    .dataframe tbody tr th {\n",
       "        vertical-align: top;\n",
       "    }\n",
       "</style>\n",
       "<table border=\"1\" class=\"dataframe\">\n",
       "  <thead>\n",
       "    <tr style=\"text-align: right;\">\n",
       "      <th></th>\n",
       "      <th>RegionID</th>\n",
       "      <th>RegionName</th>\n",
       "      <th>City</th>\n",
       "      <th>State</th>\n",
       "      <th>Metro</th>\n",
       "      <th>CountyName</th>\n",
       "      <th>SizeRank</th>\n",
       "      <th>Date</th>\n",
       "      <th>Value</th>\n",
       "    </tr>\n",
       "  </thead>\n",
       "  <tbody>\n",
       "    <tr>\n",
       "      <th>3328658</th>\n",
       "      <td>85883</td>\n",
       "      <td>63041</td>\n",
       "      <td>Grubville</td>\n",
       "      <td>MO</td>\n",
       "      <td>St. Louis</td>\n",
       "      <td>Franklin</td>\n",
       "      <td>13094</td>\n",
       "      <td>2017-05</td>\n",
       "      <td>61700.0</td>\n",
       "    </tr>\n",
       "    <tr>\n",
       "      <th>3328650</th>\n",
       "      <td>78648</td>\n",
       "      <td>47528</td>\n",
       "      <td>Edwardsport</td>\n",
       "      <td>IN</td>\n",
       "      <td>Vincennes</td>\n",
       "      <td>Knox</td>\n",
       "      <td>13086</td>\n",
       "      <td>2017-05</td>\n",
       "      <td>67100.0</td>\n",
       "    </tr>\n",
       "    <tr>\n",
       "      <th>3328653</th>\n",
       "      <td>78867</td>\n",
       "      <td>47965</td>\n",
       "      <td>Crawfordsville</td>\n",
       "      <td>IN</td>\n",
       "      <td>Crawfordsville</td>\n",
       "      <td>Montgomery</td>\n",
       "      <td>13089</td>\n",
       "      <td>2017-05</td>\n",
       "      <td>81600.0</td>\n",
       "    </tr>\n",
       "    <tr>\n",
       "      <th>3328656</th>\n",
       "      <td>67087</td>\n",
       "      <td>21865</td>\n",
       "      <td>Tyaskin</td>\n",
       "      <td>MD</td>\n",
       "      <td>Salisbury</td>\n",
       "      <td>Wicomico</td>\n",
       "      <td>13092</td>\n",
       "      <td>2017-05</td>\n",
       "      <td>105700.0</td>\n",
       "    </tr>\n",
       "    <tr>\n",
       "      <th>3328659</th>\n",
       "      <td>67072</td>\n",
       "      <td>21840</td>\n",
       "      <td>Nanticoke</td>\n",
       "      <td>MD</td>\n",
       "      <td>Salisbury</td>\n",
       "      <td>Wicomico</td>\n",
       "      <td>13095</td>\n",
       "      <td>2017-05</td>\n",
       "      <td>112200.0</td>\n",
       "    </tr>\n",
       "    <tr>\n",
       "      <th>3328652</th>\n",
       "      <td>67086</td>\n",
       "      <td>21864</td>\n",
       "      <td>Stockton</td>\n",
       "      <td>MD</td>\n",
       "      <td>Salisbury</td>\n",
       "      <td>Worcester</td>\n",
       "      <td>13088</td>\n",
       "      <td>2017-05</td>\n",
       "      <td>122400.0</td>\n",
       "    </tr>\n",
       "    <tr>\n",
       "      <th>3328654</th>\n",
       "      <td>59187</td>\n",
       "      <td>3765</td>\n",
       "      <td>Haverhill</td>\n",
       "      <td>NH</td>\n",
       "      <td>Claremont</td>\n",
       "      <td>Grafton</td>\n",
       "      <td>13090</td>\n",
       "      <td>2017-05</td>\n",
       "      <td>124100.0</td>\n",
       "    </tr>\n",
       "    <tr>\n",
       "      <th>3328651</th>\n",
       "      <td>81916</td>\n",
       "      <td>54832</td>\n",
       "      <td>Drummond</td>\n",
       "      <td>WI</td>\n",
       "      <td>NaN</td>\n",
       "      <td>Bayfield</td>\n",
       "      <td>13087</td>\n",
       "      <td>2017-05</td>\n",
       "      <td>153800.0</td>\n",
       "    </tr>\n",
       "    <tr>\n",
       "      <th>3328667</th>\n",
       "      <td>59107</td>\n",
       "      <td>3293</td>\n",
       "      <td>Woodstock</td>\n",
       "      <td>NH</td>\n",
       "      <td>Claremont</td>\n",
       "      <td>Grafton</td>\n",
       "      <td>13103</td>\n",
       "      <td>2017-05</td>\n",
       "      <td>168900.0</td>\n",
       "    </tr>\n",
       "    <tr>\n",
       "      <th>3328662</th>\n",
       "      <td>62556</td>\n",
       "      <td>12429</td>\n",
       "      <td>Port Ewen</td>\n",
       "      <td>NY</td>\n",
       "      <td>Kingston</td>\n",
       "      <td>Ulster</td>\n",
       "      <td>13098</td>\n",
       "      <td>2017-05</td>\n",
       "      <td>175600.0</td>\n",
       "    </tr>\n",
       "    <tr>\n",
       "      <th>3328669</th>\n",
       "      <td>94815</td>\n",
       "      <td>85220</td>\n",
       "      <td>Apache Junction</td>\n",
       "      <td>AZ</td>\n",
       "      <td>Phoenix</td>\n",
       "      <td>Pinal</td>\n",
       "      <td>13105</td>\n",
       "      <td>2017-05</td>\n",
       "      <td>184500.0</td>\n",
       "    </tr>\n",
       "    <tr>\n",
       "      <th>3328664</th>\n",
       "      <td>58333</td>\n",
       "      <td>1338</td>\n",
       "      <td>Shelburne Falls</td>\n",
       "      <td>MA</td>\n",
       "      <td>Greenfield Town</td>\n",
       "      <td>Franklin</td>\n",
       "      <td>13100</td>\n",
       "      <td>2017-05</td>\n",
       "      <td>217600.0</td>\n",
       "    </tr>\n",
       "    <tr>\n",
       "      <th>3328660</th>\n",
       "      <td>94711</td>\n",
       "      <td>84781</td>\n",
       "      <td>Pine Valley</td>\n",
       "      <td>UT</td>\n",
       "      <td>St. George</td>\n",
       "      <td>Washington</td>\n",
       "      <td>13096</td>\n",
       "      <td>2017-05</td>\n",
       "      <td>226700.0</td>\n",
       "    </tr>\n",
       "    <tr>\n",
       "      <th>3328655</th>\n",
       "      <td>66520</td>\n",
       "      <td>20629</td>\n",
       "      <td>Dowell</td>\n",
       "      <td>MD</td>\n",
       "      <td>Washington</td>\n",
       "      <td>Calvert</td>\n",
       "      <td>13091</td>\n",
       "      <td>2017-05</td>\n",
       "      <td>275800.0</td>\n",
       "    </tr>\n",
       "    <tr>\n",
       "      <th>3328657</th>\n",
       "      <td>93454</td>\n",
       "      <td>80532</td>\n",
       "      <td>Drake</td>\n",
       "      <td>CO</td>\n",
       "      <td>Fort Collins</td>\n",
       "      <td>Larimer</td>\n",
       "      <td>13093</td>\n",
       "      <td>2017-05</td>\n",
       "      <td>283900.0</td>\n",
       "    </tr>\n",
       "    <tr>\n",
       "      <th>3328663</th>\n",
       "      <td>99032</td>\n",
       "      <td>97028</td>\n",
       "      <td>Rhododendron</td>\n",
       "      <td>OR</td>\n",
       "      <td>Portland</td>\n",
       "      <td>Clackamas</td>\n",
       "      <td>13099</td>\n",
       "      <td>2017-05</td>\n",
       "      <td>306900.0</td>\n",
       "    </tr>\n",
       "    <tr>\n",
       "      <th>3328661</th>\n",
       "      <td>70763</td>\n",
       "      <td>29915</td>\n",
       "      <td>Bluffton</td>\n",
       "      <td>SC</td>\n",
       "      <td>Hilton Head Island</td>\n",
       "      <td>Beaufort</td>\n",
       "      <td>13097</td>\n",
       "      <td>2017-05</td>\n",
       "      <td>494900.0</td>\n",
       "    </tr>\n",
       "    <tr>\n",
       "      <th>3328666</th>\n",
       "      <td>73940</td>\n",
       "      <td>36564</td>\n",
       "      <td>Fairhope</td>\n",
       "      <td>AL</td>\n",
       "      <td>Daphne</td>\n",
       "      <td>Baldwin</td>\n",
       "      <td>13102</td>\n",
       "      <td>2017-05</td>\n",
       "      <td>548500.0</td>\n",
       "    </tr>\n",
       "    <tr>\n",
       "      <th>3328665</th>\n",
       "      <td>99074</td>\n",
       "      <td>97102</td>\n",
       "      <td>Arch Cape</td>\n",
       "      <td>OR</td>\n",
       "      <td>Astoria</td>\n",
       "      <td>Clatsop</td>\n",
       "      <td>13101</td>\n",
       "      <td>2017-05</td>\n",
       "      <td>612900.0</td>\n",
       "    </tr>\n",
       "    <tr>\n",
       "      <th>3328668</th>\n",
       "      <td>66881</td>\n",
       "      <td>21405</td>\n",
       "      <td>Annapolis</td>\n",
       "      <td>MD</td>\n",
       "      <td>Baltimore</td>\n",
       "      <td>Anne Arundel</td>\n",
       "      <td>13104</td>\n",
       "      <td>2017-05</td>\n",
       "      <td>773500.0</td>\n",
       "    </tr>\n",
       "  </tbody>\n",
       "</table>\n",
       "</div>"
      ],
      "text/plain": [
       "         RegionID  RegionName             City State               Metro  \\\n",
       "3328658     85883       63041        Grubville    MO           St. Louis   \n",
       "3328650     78648       47528      Edwardsport    IN           Vincennes   \n",
       "3328653     78867       47965   Crawfordsville    IN      Crawfordsville   \n",
       "3328656     67087       21865          Tyaskin    MD           Salisbury   \n",
       "3328659     67072       21840        Nanticoke    MD           Salisbury   \n",
       "3328652     67086       21864         Stockton    MD           Salisbury   \n",
       "3328654     59187        3765        Haverhill    NH           Claremont   \n",
       "3328651     81916       54832         Drummond    WI                 NaN   \n",
       "3328667     59107        3293        Woodstock    NH           Claremont   \n",
       "3328662     62556       12429        Port Ewen    NY            Kingston   \n",
       "3328669     94815       85220  Apache Junction    AZ             Phoenix   \n",
       "3328664     58333        1338  Shelburne Falls    MA     Greenfield Town   \n",
       "3328660     94711       84781      Pine Valley    UT          St. George   \n",
       "3328655     66520       20629           Dowell    MD          Washington   \n",
       "3328657     93454       80532            Drake    CO        Fort Collins   \n",
       "3328663     99032       97028     Rhododendron    OR            Portland   \n",
       "3328661     70763       29915         Bluffton    SC  Hilton Head Island   \n",
       "3328666     73940       36564         Fairhope    AL              Daphne   \n",
       "3328665     99074       97102        Arch Cape    OR             Astoria   \n",
       "3328668     66881       21405        Annapolis    MD           Baltimore   \n",
       "\n",
       "           CountyName  SizeRank     Date     Value  \n",
       "3328658      Franklin     13094  2017-05   61700.0  \n",
       "3328650          Knox     13086  2017-05   67100.0  \n",
       "3328653    Montgomery     13089  2017-05   81600.0  \n",
       "3328656      Wicomico     13092  2017-05  105700.0  \n",
       "3328659      Wicomico     13095  2017-05  112200.0  \n",
       "3328652     Worcester     13088  2017-05  122400.0  \n",
       "3328654       Grafton     13090  2017-05  124100.0  \n",
       "3328651      Bayfield     13087  2017-05  153800.0  \n",
       "3328667       Grafton     13103  2017-05  168900.0  \n",
       "3328662        Ulster     13098  2017-05  175600.0  \n",
       "3328669         Pinal     13105  2017-05  184500.0  \n",
       "3328664      Franklin     13100  2017-05  217600.0  \n",
       "3328660    Washington     13096  2017-05  226700.0  \n",
       "3328655       Calvert     13091  2017-05  275800.0  \n",
       "3328657       Larimer     13093  2017-05  283900.0  \n",
       "3328663     Clackamas     13099  2017-05  306900.0  \n",
       "3328661      Beaufort     13097  2017-05  494900.0  \n",
       "3328666       Baldwin     13102  2017-05  548500.0  \n",
       "3328665       Clatsop     13101  2017-05  612900.0  \n",
       "3328668  Anne Arundel     13104  2017-05  773500.0  "
      ]
     },
     "execution_count": 44,
     "metadata": {},
     "output_type": "execute_result"
    }
   ],
   "source": [
    "homes2 = pd.melt(homes, id_vars=[\"RegionID\", \"RegionName\", \"City\", \"State\", \"Metro\", \"CountyName\", \"SizeRank\"], var_name=\"Date\", value_name=\"Value\")\n",
    "homes2.tail(20).sort_values('Value')"
   ]
  },
  {
   "cell_type": "code",
   "execution_count": 26,
   "metadata": {},
   "outputs": [
    {
     "data": {
      "text/plain": [
       "3328670"
      ]
     },
     "execution_count": 26,
     "metadata": {},
     "output_type": "execute_result"
    }
   ],
   "source": [
    "len(homes2)"
   ]
  },
  {
   "cell_type": "code",
   "execution_count": 27,
   "metadata": {},
   "outputs": [
    {
     "data": {
      "text/plain": [
       "13105"
      ]
     },
     "execution_count": 27,
     "metadata": {},
     "output_type": "execute_result"
    }
   ],
   "source": [
    "len(homes)"
   ]
  },
  {
   "cell_type": "code",
   "execution_count": null,
   "metadata": {
    "collapsed": true
   },
   "outputs": [],
   "source": []
  },
  {
   "cell_type": "code",
   "execution_count": null,
   "metadata": {
    "collapsed": true
   },
   "outputs": [],
   "source": [
    "# plot annual average growth for all US in the last 20 years"
   ]
  },
  {
   "cell_type": "code",
   "execution_count": 41,
   "metadata": {},
   "outputs": [
    {
     "ename": "NameError",
     "evalue": "name 'average' is not defined",
     "output_type": "error",
     "traceback": [
      "\u001b[0;31m---------------------------------------------------------------------------\u001b[0m",
      "\u001b[0;31mNameError\u001b[0m                                 Traceback (most recent call last)",
      "\u001b[0;32m<ipython-input-41-8c53701a0287>\u001b[0m in \u001b[0;36m<module>\u001b[0;34m()\u001b[0m\n\u001b[1;32m      2\u001b[0m \u001b[0mh\u001b[0m \u001b[0;34m=\u001b[0m \u001b[0mh\u001b[0m\u001b[0;34m[\u001b[0m\u001b[0mh\u001b[0m\u001b[0;34m.\u001b[0m\u001b[0mCity\u001b[0m \u001b[0;34m==\u001b[0m \u001b[0;34m\"New York\"\u001b[0m\u001b[0;34m]\u001b[0m\u001b[0;34m\u001b[0m\u001b[0m\n\u001b[1;32m      3\u001b[0m \u001b[0mh\u001b[0m \u001b[0;34m=\u001b[0m \u001b[0mh\u001b[0m\u001b[0;34m.\u001b[0m\u001b[0mgroupby\u001b[0m\u001b[0;34m(\u001b[0m\u001b[0mh\u001b[0m\u001b[0;34m.\u001b[0m\u001b[0mDate\u001b[0m\u001b[0;34m)\u001b[0m\u001b[0;34m\u001b[0m\u001b[0m\n\u001b[0;32m----> 4\u001b[0;31m \u001b[0mh\u001b[0m\u001b[0;34m[\u001b[0m\u001b[0;34m'average'\u001b[0m\u001b[0;34m]\u001b[0m \u001b[0;34m=\u001b[0m \u001b[0mh\u001b[0m\u001b[0;34m.\u001b[0m\u001b[0mapply\u001b[0m\u001b[0;34m(\u001b[0m\u001b[0maverage\u001b[0m\u001b[0;34m,\u001b[0m \u001b[0maxis\u001b[0m\u001b[0;34m=\u001b[0m\u001b[0;36m1\u001b[0m\u001b[0;34m)\u001b[0m\u001b[0;34m\u001b[0m\u001b[0m\n\u001b[0m\u001b[1;32m      5\u001b[0m \u001b[0mh\u001b[0m\u001b[0;34m.\u001b[0m\u001b[0mValue\u001b[0m\u001b[0;34m.\u001b[0m\u001b[0mplot\u001b[0m\u001b[0;34m(\u001b[0m\u001b[0;34m)\u001b[0m\u001b[0;34m\u001b[0m\u001b[0m\n",
      "\u001b[0;31mNameError\u001b[0m: name 'average' is not defined"
     ]
    }
   ],
   "source": [
    "h = homes2\n",
    "h = h.groupby(h.Date)\n",
    "h['average'] = h.apply(average, axis=1)\n",
    "h.Value.plot()\n"
   ]
  },
  {
   "cell_type": "code",
   "execution_count": null,
   "metadata": {
    "collapsed": true
   },
   "outputs": [],
   "source": []
  },
  {
   "cell_type": "code",
   "execution_count": null,
   "metadata": {
    "collapsed": true
   },
   "outputs": [],
   "source": []
  },
  {
   "cell_type": "code",
   "execution_count": null,
   "metadata": {
    "collapsed": true
   },
   "outputs": [],
   "source": [
    "# show cumulative growth by state for the last 20 years"
   ]
  },
  {
   "cell_type": "code",
   "execution_count": 58,
   "metadata": {},
   "outputs": [
    {
     "ename": "AttributeError",
     "evalue": "'DataFrameGroupBy' object has no attribute 'average'",
     "output_type": "error",
     "traceback": [
      "\u001b[0;31m---------------------------------------------------------------------------\u001b[0m",
      "\u001b[0;31mAttributeError\u001b[0m                            Traceback (most recent call last)",
      "\u001b[0;32m<ipython-input-58-209ed38fac13>\u001b[0m in \u001b[0;36m<module>\u001b[0;34m()\u001b[0m\n\u001b[1;32m      1\u001b[0m \u001b[0mh\u001b[0m \u001b[0;34m=\u001b[0m \u001b[0mhomes2\u001b[0m\u001b[0;34m\u001b[0m\u001b[0m\n\u001b[0;32m----> 2\u001b[0;31m \u001b[0mg\u001b[0m \u001b[0;34m=\u001b[0m \u001b[0mh\u001b[0m\u001b[0;34m.\u001b[0m\u001b[0mgroupby\u001b[0m\u001b[0;34m(\u001b[0m\u001b[0;34m[\u001b[0m\u001b[0;34m'State'\u001b[0m\u001b[0;34m,\u001b[0m \u001b[0;34m'Date'\u001b[0m\u001b[0;34m]\u001b[0m\u001b[0;34m)\u001b[0m\u001b[0;34m.\u001b[0m\u001b[0maverage\u001b[0m\u001b[0;34m(\u001b[0m\u001b[0;34m)\u001b[0m\u001b[0;34m\u001b[0m\u001b[0m\n\u001b[0m\u001b[1;32m      3\u001b[0m \u001b[0mg\u001b[0m\u001b[0;34m\u001b[0m\u001b[0m\n",
      "\u001b[0;32m/anaconda/lib/python2.7/site-packages/pandas/core/groupby.pyc\u001b[0m in \u001b[0;36m__getattr__\u001b[0;34m(self, attr)\u001b[0m\n\u001b[1;32m    549\u001b[0m \u001b[0;34m\u001b[0m\u001b[0m\n\u001b[1;32m    550\u001b[0m         raise AttributeError(\"%r object has no attribute %r\" %\n\u001b[0;32m--> 551\u001b[0;31m                              (type(self).__name__, attr))\n\u001b[0m\u001b[1;32m    552\u001b[0m \u001b[0;34m\u001b[0m\u001b[0m\n\u001b[1;32m    553\u001b[0m     \u001b[0mplot\u001b[0m \u001b[0;34m=\u001b[0m \u001b[0mproperty\u001b[0m\u001b[0;34m(\u001b[0m\u001b[0mGroupByPlot\u001b[0m\u001b[0;34m)\u001b[0m\u001b[0;34m\u001b[0m\u001b[0m\n",
      "\u001b[0;31mAttributeError\u001b[0m: 'DataFrameGroupBy' object has no attribute 'average'"
     ]
    }
   ],
   "source": [
    "h = homes2\n",
    "g = h.groupby(['State', 'Date']).average()\n",
    "g"
   ]
  },
  {
   "cell_type": "code",
   "execution_count": null,
   "metadata": {
    "collapsed": true
   },
   "outputs": [],
   "source": []
  },
  {
   "cell_type": "code",
   "execution_count": null,
   "metadata": {
    "collapsed": true
   },
   "outputs": [],
   "source": []
  },
  {
   "cell_type": "code",
   "execution_count": null,
   "metadata": {
    "collapsed": true
   },
   "outputs": [],
   "source": [
    "# show annual growth by state for the last 20 years"
   ]
  },
  {
   "cell_type": "code",
   "execution_count": null,
   "metadata": {
    "collapsed": true
   },
   "outputs": [],
   "source": []
  },
  {
   "cell_type": "code",
   "execution_count": null,
   "metadata": {
    "collapsed": true
   },
   "outputs": [],
   "source": []
  },
  {
   "cell_type": "code",
   "execution_count": null,
   "metadata": {
    "collapsed": true
   },
   "outputs": [],
   "source": []
  },
  {
   "cell_type": "code",
   "execution_count": null,
   "metadata": {
    "collapsed": true
   },
   "outputs": [],
   "source": [
    "# plot annual growth by state for 5 slowest growing states for the last 20 years"
   ]
  },
  {
   "cell_type": "code",
   "execution_count": null,
   "metadata": {
    "collapsed": true
   },
   "outputs": [],
   "source": []
  },
  {
   "cell_type": "code",
   "execution_count": null,
   "metadata": {
    "collapsed": true
   },
   "outputs": [],
   "source": []
  },
  {
   "cell_type": "code",
   "execution_count": null,
   "metadata": {
    "collapsed": true
   },
   "outputs": [],
   "source": []
  },
  {
   "cell_type": "code",
   "execution_count": null,
   "metadata": {
    "collapsed": true
   },
   "outputs": [],
   "source": [
    "# plot annual growth by state for 5 slowest growing states for the last 20 years"
   ]
  },
  {
   "cell_type": "code",
   "execution_count": null,
   "metadata": {
    "collapsed": true
   },
   "outputs": [],
   "source": []
  },
  {
   "cell_type": "code",
   "execution_count": null,
   "metadata": {
    "collapsed": true
   },
   "outputs": [],
   "source": []
  },
  {
   "cell_type": "code",
   "execution_count": null,
   "metadata": {
    "collapsed": true
   },
   "outputs": [],
   "source": []
  },
  {
   "cell_type": "code",
   "execution_count": null,
   "metadata": {
    "collapsed": true
   },
   "outputs": [],
   "source": [
    "# plot annual growth by zip for 5 fastest growing zips for the last 20 years"
   ]
  },
  {
   "cell_type": "code",
   "execution_count": null,
   "metadata": {
    "collapsed": true
   },
   "outputs": [],
   "source": []
  },
  {
   "cell_type": "code",
   "execution_count": null,
   "metadata": {
    "collapsed": true
   },
   "outputs": [],
   "source": []
  },
  {
   "cell_type": "code",
   "execution_count": null,
   "metadata": {
    "collapsed": true
   },
   "outputs": [],
   "source": []
  },
  {
   "cell_type": "code",
   "execution_count": null,
   "metadata": {
    "collapsed": true
   },
   "outputs": [],
   "source": [
    "# plot annual growth by zip for 5 slowest growing zips for the last 20 years"
   ]
  },
  {
   "cell_type": "code",
   "execution_count": null,
   "metadata": {
    "collapsed": true
   },
   "outputs": [],
   "source": []
  },
  {
   "cell_type": "code",
   "execution_count": null,
   "metadata": {
    "collapsed": true
   },
   "outputs": [],
   "source": []
  },
  {
   "cell_type": "code",
   "execution_count": null,
   "metadata": {
    "collapsed": true
   },
   "outputs": [],
   "source": []
  },
  {
   "cell_type": "code",
   "execution_count": null,
   "metadata": {
    "collapsed": true
   },
   "outputs": [],
   "source": []
  }
 ],
 "metadata": {
  "kernelspec": {
   "display_name": "Python 2",
   "language": "python",
   "name": "python2"
  },
  "language_info": {
   "codemirror_mode": {
    "name": "ipython",
    "version": 2
   },
   "file_extension": ".py",
   "mimetype": "text/x-python",
   "name": "python",
   "nbconvert_exporter": "python",
   "pygments_lexer": "ipython2",
   "version": "2.7.13"
  }
 },
 "nbformat": 4,
 "nbformat_minor": 2
}
